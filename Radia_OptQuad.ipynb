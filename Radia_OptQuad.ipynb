{
 "cells": [
  {
   "cell_type": "markdown",
   "metadata": {
    "editable": true,
    "slideshow": {
     "slide_type": ""
    },
    "tags": []
   },
   "source": [
    "# RADIA Example: Optimizing Pole Tip Shape"
   ]
  },
  {
   "cell_type": "markdown",
   "metadata": {
    "tags": []
   },
   "source": [
    "### _Dan T. Abell, RadiaSoft LLC_"
   ]
  },
  {
   "cell_type": "markdown",
   "metadata": {},
   "source": [
    "$\\rule[2pt]{15mm}{0.50pt}\\ \\LaTeX\\ \\text{macros}\\ \\rule[2pt]{15mm}{0.50pt}$\n",
    "$$\n",
    "%% math text\n",
    "\\newcommand{\\mhsp}{\\mskip{1.5mu}}\n",
    "\\newcommand{\\hmhsp}{\\mskip{0.75mu}}\n",
    "\\newcommand{\\nmhsp}{\\mskip{-1.5mu}}\n",
    "\\newcommand{\\nhmhsp}{\\mskip{-0.75mu}}\n",
    "\\newcommand{\\ud}{\\mathop{}\\!\\mathrm{d}}% upright d for differential\n",
    "\\newcommand{\\ue}{\\mathrm{e}}% upright e for Euler number\n",
    "\\newcommand{\\ui}{\\mathrm{i}}% upright i for unit imaginary\n",
    "\\newcommand{\\uj}{\\mathrm{j}}% upright j for unit imaginary\n",
    "\\newcommand{\\uk}{\\mathrm{k}}% upright k for unit imaginary\n",
    "\\newcommand{\\sl}{\\,/\\,}\n",
    "%%\n",
    "%% derivatives\n",
    "\\newcommand{\\dd}[3][]{\\ud^{#1}{#2}/\\nmhsp\\ud{#3}^{#1}}\n",
    "\\newcommand{\\dt}[2][]{\\ud^{#1}{#2}/\\nmhsp\\ud{t}^{#1}}\n",
    "\\newcommand{\\Dd}[3][]{\\frac{\\ud^{#1}{#2}}{\\ud{#3}^{#1}}}\n",
    "\\newcommand{\\Dt}[2][]{\\frac{\\ud^{#1}{#2}}{\\ud{t}^{#1}}}\n",
    "\\newcommand{\\ptdd}[3][]{\\partial^{#1}{#2}/\\partial{#3}^{#1}}\n",
    "\\newcommand{\\ptDd}[3][]{\\frac{\\partial^{#1}{#2}}{\\partial{#3}^{#1}}}\n",
    "%%\n",
    "%% vector operators\n",
    "\\DeclareMathOperator{\\grad}{\\nabla\\nmhsp\\nmhsp}\n",
    "\\DeclareMathOperator{\\divrg}{{\\nabla\\cdot}\\nmhsp\\nhmhsp}\n",
    "\\DeclareMathOperator{\\curl}{{\\nabla\\times}\\nmhsp\\nhmhsp}\n",
    "%%\n",
    "%% vectors\n",
    "%% -- using \\boldsymbol\n",
    "% \\newcommand{\\uV}[1]{\\hat{\\boldsymbol{#1}}}% unit vector\n",
    "% \\newcommand{\\V}[1]{\\boldsymbol{#1}}% vector\n",
    "% \\newcommand{\\uVg}[1]{\\hat{\\boldsymbol{#1}}}% unit vector\n",
    "% \\newcommand{\\Vg}[1]{\\boldsymbol{#1}}% vector\n",
    "%% -- using \\vec\n",
    "\\newcommand{\\uV}[1]{\\hat{{#1}}}% unit vector\n",
    "\\newcommand{\\V}[1]{\\vec{#1}}% vector\n",
    "\\newcommand{\\uVg}[1]{\\hat{{#1}}}% unit vector\n",
    "\\newcommand{\\Vg}[1]{\\vec{#1}}% vector\n",
    "$$\n",
    "$\\rule[2pt]{59.0mm}{0.50pt}$"
   ]
  },
  {
   "cell_type": "markdown",
   "metadata": {
    "tags": []
   },
   "source": [
    "---\n",
    "## Introduction & Theory"
   ]
  },
  {
   "cell_type": "markdown",
   "metadata": {},
   "source": [
    "<font color=\"#E72345\"> Say more here! </font></br>"
   ]
  },
  {
   "cell_type": "markdown",
   "metadata": {},
   "source": [
    "In this example, we extend Radia Example&#160;6 to illustrate how\n",
    "one may optimize the shape of the magnet pole tips. We follow the\n",
    "general approach of [Le Bec _et al._ (2014)](#ref:LeBec-2014-ShapeOptESRF).\n",
    "\n",
    "I have so far implemented the pole shape modification.\n",
    "Still need to implement the optimization.\n",
    "\n",
    "For a list of all Radia functions, simply execute `rad.*?`.\n",
    "And for an explanation of a particular Radia function, simply execute,\n",
    "for example, `rad.ObjDivMag?`. See also the\n",
    "[Radia Reference Guide](\n",
    "  https://www.esrf.eu/Accelerators/Groups/InsertionDevices/Software/Radia/Documentation/ReferenceGuide/Index\n",
    "  \"RADIA Reference Guide at ESRF\")."
   ]
  },
  {
   "cell_type": "markdown",
   "metadata": {},
   "source": [
    "### References"
   ]
  },
  {
   "cell_type": "markdown",
   "metadata": {},
   "source": [
    "<a id='references'></a>\n",
    "\n",
    "Some relevant references include\n",
    "1. A. Banerjee, O. Chubar, G. Le Bec, J. Chavanne, B. Nash, C. Hall, and J. Edelen, “Parallelization of Radia magnetostatics code”, _J. Phys. Conf. Ser._ 2420:012051, Jan. 2023. [doi: 10.1088/1742-6596/2420/1/012051](https://doi.org/10.1088/1742-6596/2420/1/012051).\n",
    "<a id='ref:Banerjee-2023-ParRadia'></a>\n",
    "2. J. Chavanne, O. Chubar, P. Elleaume, and P. Van Vaerenbergh, “Nonlinear numerical simulation of permanent magnets”, _Proc. 2000 Eur. Part. Accel. Conf._, 2316–2318. At [JACoW](https://accelconf.web.cern.ch/e00/PAPERS/WEP4B03.pdf).\n",
    "<a id='ref:Chavanne-2000-Radia'></a>\n",
    "3. O. Chubar, C. Benabderrahmane, O. Marcouille, F. Marteau, J. Chavanne, and P. Elleaume, “Application of finite volume integral approach to computing of 3D magnetic fields created by distributed iron-dominated electromagnet structures”, _Proc. 2004 Eur. Part. Accel. Conf._, 1675–1677. At [JACoW](https://accelconf.web.cern.ch/e04/PAPERS/WEPKF033.PDF).\n",
    "<a id='ref:Chubar-2004-AppFiniteVol'></a>\n",
    "4. O. Chubar, J. Bengtsson, L. Berman, A. Broadbent, Y. Cai, S. Hulbert, Q. Shen, and T. Tanabe, “Parametric optimization of undulators for NSLS-II project beamlines”, _AIP Conf. Proc._ 1234:37--40, June 2010. [doi: 10.1063/1.3463218](https://doi.org/10.1063/1.3463218).\n",
    "<a id='ref:Chubar-2010-ParamOptUnd'></a>\n",
    "5. O. Chubar, P. Elleaume, and J. Chavanne, “A three-dimensional magnetostatics computer code for insertion devices”, _J. Synchrotron Radiat._ 5(3):481–484, May 1998. [doi: 10.1107/S0909049597013502](https://doi.org/10.1107/S0909049597013502).\n",
    "<a id='ref:Chubar-1998-Radia'></a>\n",
    "6. P. Elleaume, O. Chubar, and J. Chavanne, “Computing 3D magnetic fields from insertion devices”, _Proc. 1997 Part. Accel. Conf._. [doi: 10.1109/PAC.1997.753258](https://doi.org/10.1109/PAC.1997.753258).\n",
    "<a id='ref:Elleaume-1997-Radia'></a>\n",
    "7. C. Hall, D. Abell, A. Banerjee, O. Chubar, J. Edelen, M. Keilman, P. Moeller, R. Nagler, and B. Nash, “Recent developments to the Radia magnetostatics code for improved performance and interface”, _J. Phys. Conf. Ser._ 2380:012025, Dec. 2022. [doi: 10.1088/1742-6596/2380/1/012025](https://doi.org/10.1088/1742-6596/2380/1/012025).\n",
    "<a id='ref:Hall-2022-RecentRadia'></a>\n",
    "8. G. Le Bec, J. Chavanne, and P. N'gotta, “Spape optimization fo the ESRF II magnets”, _Proc. 2014 Int. Part. Accel. Conf._ 1232–1234. [doi: 10.18429/JACoW-IPAC2014-TUPRO082](https://doi.org/10.18429/JACoW-IPAC2014-TUPRO082).\n",
    "<a id='ref:LeBec-2014-ShapeOptESRF'></a>"
   ]
  },
  {
   "cell_type": "markdown",
   "metadata": {
    "tags": []
   },
   "source": [
    "---\n",
    "## Preamble"
   ]
  },
  {
   "cell_type": "markdown",
   "metadata": {},
   "source": [
    "Relation of the Greek alphabet to the Latin keys (on Mac OS, perhaps others?):\n",
    "\n",
    "```\n",
    "a b g  d e  z h u  i k l  m n j  o p  r s  t y f  x c v  w\n",
    "––––––––––––––––––––––––––––––––––––––––––––––––––––––––––\n",
    "α β γ  δ ε  ζ η θ  ι κ λ  μ ν ξ  ο π  ρ σ  τ υ φ  χ ψ ω  ς\n",
    "    Γ  Δ               Λ      Ξ    Π    Σ    Υ Φ    Ψ Ω\n",
    "```"
   ]
  },
  {
   "cell_type": "markdown",
   "metadata": {
    "tags": []
   },
   "source": [
    "### Required imports"
   ]
  },
  {
   "cell_type": "code",
   "execution_count": null,
   "metadata": {},
   "outputs": [],
   "source": [
    "%matplotlib inline\n",
    "import matplotlib.pyplot as plt\n",
    "# import plotly.graph_objects\n",
    "# import seaborn as sb\n",
    "# import pandas as pd\n",
    "\n",
    "from math import *\n",
    "# import math as m\n",
    "\n",
    "import numbers\n",
    "import numpy as np\n",
    "import numpy.polynomial.chebyshev as cheb\n",
    "import numpy.polynomial.legendre as leg\n",
    "\n",
    "import scipy.constants as sc\n",
    "# import scipy.interpolate as scinterp\n",
    "# import scipy.integrate as scinteg\n",
    "# import scipy.optimize as sciopt\n",
    "# import scipy.special as scisf\n",
    "\n",
    "import dfols # derivative-free optimization for least squares\n",
    "\n",
    "# import copy\n",
    "import os\n",
    "import re\n",
    "import time as tm"
   ]
  },
  {
   "cell_type": "code",
   "execution_count": null,
   "metadata": {},
   "outputs": [],
   "source": [
    "import radia as rad\n",
    "from srwpy.uti_plot import *\n",
    "import ipywidgets\n",
    "from jupyter_rs_radia import radia_viewer"
   ]
  },
  {
   "cell_type": "markdown",
   "metadata": {},
   "source": [
    "### Notebook directory"
   ]
  },
  {
   "cell_type": "markdown",
   "metadata": {},
   "source": [
    "Where are we?"
   ]
  },
  {
   "cell_type": "code",
   "execution_count": null,
   "metadata": {},
   "outputs": [],
   "source": [
    "nb_dir = os.getcwd() + '/'\n",
    "nb_dir"
   ]
  },
  {
   "cell_type": "markdown",
   "metadata": {},
   "source": [
    "### Mathematical and physical constants"
   ]
  },
  {
   "cell_type": "markdown",
   "metadata": {},
   "source": [
    "Define some mathematical constants:"
   ]
  },
  {
   "cell_type": "code",
   "execution_count": null,
   "metadata": {},
   "outputs": [],
   "source": [
    "# pi\n",
    "π = pi\n",
    "\n",
    "# golden ratio\n",
    "φ = (1 + sqrt(5)) / 2\n",
    "\n",
    "# roots\n",
    "rt2 = sqrt(2.)\n",
    "\n",
    "# degree to radian, and radian to degree\n",
    "degree = π / 180.\n",
    "d2r = degree\n",
    "r2d = 1 / degree"
   ]
  },
  {
   "cell_type": "markdown",
   "metadata": {},
   "source": [
    "Define the SI prefixes, which are particularly useful in converting data for plots:"
   ]
  },
  {
   "cell_type": "code",
   "execution_count": null,
   "metadata": {},
   "outputs": [],
   "source": [
    "# SI prefixes\n",
    "si_Q  = 1.e30  # quetta\n",
    "si_R  = 1.e27  # ronna\n",
    "si_Y  = 1.e24  # yotta\n",
    "si_Z  = 1.e21  # zetta\n",
    "si_E  = 1.e18  # exa\n",
    "si_P  = 1.e15  # peta\n",
    "si_T  = 1.e12  # tera\n",
    "si_G  = 1.e9   # giga\n",
    "si_M  = 1.e6   # mega\n",
    "si_k  = 1.e3   # kilo\n",
    "si_h  = 1.e2   # hecto\n",
    "si_da = 1.e1   # deka\n",
    "si_1  = 1.e0   # one\n",
    "si_d  = 1.e-1  # deci\n",
    "si_c  = 1.e-2  # centi\n",
    "si_m  = 1.e-3  # milli\n",
    "si_u  = 1.e-6  # micro\n",
    "si_n  = 1.e-9  # nano\n",
    "si_p  = 1.e-12 # pico\n",
    "si_f  = 1.e-15 # femto\n",
    "si_a  = 1.e-18 # atto\n",
    "si_z  = 1.e-21 # zepto\n",
    "si_y  = 1.e-24 # yocto\n",
    "si_r  = 1.e-27 # ronto\n",
    "si_q  = 1.e-30 # quecto"
   ]
  },
  {
   "cell_type": "markdown",
   "metadata": {},
   "source": [
    "### Function definitions: Utilities"
   ]
  },
  {
   "cell_type": "markdown",
   "metadata": {},
   "source": [
    "Define a function to print a matrix in standard format:"
   ]
  },
  {
   "cell_type": "code",
   "execution_count": null,
   "metadata": {},
   "outputs": [],
   "source": [
    "def print_matrix(M, fmt = '13.9f'):\n",
    "    \"\"\"\n",
    "    Print matrix M row-by-row using the specified format.\n",
    "    \"\"\"\n",
    "    mx = np.asarray(M)\n",
    "    r, c = np.shape(mx)\n",
    "    fmtstr = '{0:' + fmt + '}' \n",
    "    for j in range(r):\n",
    "        #print('', end = '  ')\n",
    "        for k in range(c - 1):\n",
    "            print(fmtstr.format(mx[j, k]), end = '  ')\n",
    "        print(fmtstr.format(mx[j, c - 1]))"
   ]
  },
  {
   "cell_type": "markdown",
   "metadata": {},
   "source": [
    "Define a function to produce a pseudo-random distribution\n",
    "of points in the unit disc:"
   ]
  },
  {
   "cell_type": "code",
   "execution_count": null,
   "metadata": {},
   "outputs": [],
   "source": [
    "def random_disc(n, iseed = None):\n",
    "    \"\"\"\n",
    "    Return an array of n pseudo-random points [x,y] in the unit disc.\n",
    "\n",
    "    Arguments:\n",
    "        n     = number of points to generate\n",
    "        iseed = initial seed for the random number generator; defaults\n",
    "                  to None, in which case “unpredictable entropy will be\n",
    "                  pulled from the OS”\n",
    "    \"\"\"\n",
    "    # initialize (pseudo)random number generator\n",
    "    rng = np.random.default_rng(seed = iseed)\n",
    "\n",
    "    if n is None or n == 1:\n",
    "        ρ = rng.uniform() + rng.uniform()\n",
    "        ρ = min(ρ, 2 - ρ)\n",
    "        θ = 2 * π * rng.uniform()\n",
    "        return [ρ * cos(θ), ρ * sin(θ)]\n",
    "    else:\n",
    "        ρ = rng.uniform(size = n) + rng.uniform(size = n)\n",
    "        ρ = np.min(np.asarray([ρ, 2 - ρ]).T, axis = 1).reshape((len(ρ), 1))\n",
    "        θ = 2 * π * rng.uniform(size = n)\n",
    "        cs = np.asarray([np.cos(θ), np.sin(θ)]).T\n",
    "        return np.asarray(ρ * cs)"
   ]
  },
  {
   "cell_type": "markdown",
   "metadata": {},
   "source": [
    "Define a function to produce a sunflower-seed (quasi-uniform)\n",
    "distribution of points in the unit disc:"
   ]
  },
  {
   "cell_type": "code",
   "execution_count": null,
   "metadata": {},
   "outputs": [],
   "source": [
    "def sunflower(n, α = 0):\n",
    "    \"\"\"\n",
    "    Return an array of n points (x,y) in the unit disc distributed\n",
    "    in a manner similar to the pattern of seeds in a sunflower.\n",
    "    This yields a quasi-uniform distribution of points in the\n",
    "    unit disc.\n",
    "\n",
    "    Arguments:\n",
    "        n = number of points to generate\n",
    "        α = parameter to adjust the number of points on the\n",
    "              boundary of the unit disc: [ α * √n ]\n",
    "\n",
    "    NB: Good choices for the parameter α lie in the range [0,2].\n",
    "    Values of α significantly above √2 begin yielding noticeable\n",
    "    gaps between interior and boundary points.\n",
    "\n",
    "    A.M. Mathai and T.A. Davis, “Constructing the sunflower head,”\n",
    "    Math. Biosci. 20(1–2):117–133, June 1974.\n",
    "    doi:10.1016/0025-5564(74)90072-8\n",
    "\n",
    "    H. Vogel, “A better way to construct the sunflower head,”\n",
    "    Math. Biosci. 44(3–4):179–189, June 1979.\n",
    "    doi:10.1016/0025-5564(79)90080-4\n",
    "\n",
    "    See also https://stackoverflow.com/questions/28567166/.\n",
    "    \"\"\"\n",
    "    points = []\n",
    "    Δθ = 2 * pi / φ ** 2\n",
    "    b = round(α * sqrt(n))  # number of boundary points\n",
    "    for k in range(1, n + 1):\n",
    "        r = sqrt( (k - 1 / 2) / (n - (b + 1) / 2) ) if k <= n - b else 1.0\n",
    "        θ = k * Δθ\n",
    "        points.append((r * cos(θ), r * sin(θ)))\n",
    "    return points"
   ]
  },
  {
   "cell_type": "markdown",
   "metadata": {},
   "source": [
    "### Function definitions: Harmonic analysis"
   ]
  },
  {
   "cell_type": "markdown",
   "metadata": {},
   "source": [
    "Define functions to perform 2D harmonic analysis\n",
    "of a given multipole magnet on the basis of a set of\n",
    "evenly-space points on a circle of specified radius:"
   ]
  },
  {
   "cell_type": "code",
   "execution_count": null,
   "metadata": {},
   "outputs": [],
   "source": [
    "def intB_2D_circle(mag, nh, ro, yc = 0., zc = 0.):\n",
    "    \"\"\"\n",
    "    Return an array of integrated field strengths:\n",
    "      [ ∫ (Bv + i Bh) dx for nh equally-spaced pts on circle((yc,zc), ro) ].\n",
    "    The number of points, nh, equals the maximum number of harmonics\n",
    "    one can extract from the data returned by this function.\n",
    "\n",
    "    Arguments:\n",
    "        mag = magnet to analyse\n",
    "        nh  = number of points at which to compute integrals\n",
    "        ro  = radius of circle on which to compute integrals\n",
    "        yc  = horizontal center of circle / mm\n",
    "        zc  = vertical center of circle / mm\n",
    "\n",
    "    NB: This function assumes a magnetic axis along the X direction.\n",
    "    \"\"\"\n",
    "    intBdx = [complex(0, 0)] * nh\n",
    "    dθ = 2 * π / nh\n",
    "    for i in range(nh):\n",
    "        θ = i * dθ\n",
    "        yi = yc + ro * cos(θ)\n",
    "        zi = zc + ro * sin(θ)\n",
    "        iBv = rad.FldInt(mag, 'inf', 'ibz', [-1, yi, zi], [ 1, yi, zi])\n",
    "        iBh = rad.FldInt(mag, 'inf', 'iby', [-1, yi, zi], [ 1, yi, zi])\n",
    "        intBdx[i] = complex(iBv, iBh)\n",
    "    return np.asarray(intBdx)"
   ]
  },
  {
   "cell_type": "code",
   "execution_count": null,
   "metadata": {},
   "outputs": [],
   "source": [
    "def mpoles_from_circle(mag, max_m, nc, ro, yc = 0., zc = 0.):\n",
    "    \"\"\"\n",
    "    Return an array of complex 2m-pole strengths (b_m + i a_m) derived\n",
    "    from the integrated 2D-complex field integrals ∫(Bv + i Bh)ds\n",
    "    evaluated at nc evenly-spaced points on a circle of radius ro.\n",
    "\n",
    "    The integrated 2D-complex field strength has the form\n",
    "        B(z) = Bo Σ_{n=1}^{∞} (b_n + i a_n) z^{n-1},\n",
    "    where z = x + i y = r e^{iθ}. Multiply both sides by e^{-i(m-1)θ}\n",
    "    and integrate with respect to θ. One obtains the result\n",
    "        ro^{m-1} (b_m + i a_m) = 1 / (2πBo) ∫ B(ro,θ) e^{-i(m-1)θ} dθ.\n",
    "\n",
    "    Arguments:\n",
    "        mag   = magnet to analyse\n",
    "        max_m = maximum multipole index (equals minimum number\n",
    "                  of points at which to compute integrals)\n",
    "        nc    = number of points on the circle at which to compute\n",
    "                  field integrals; must be >= max_m\n",
    "        ro    = radius of circle on which to compute integrals\n",
    "        yc    = horizontal center of circle / mm\n",
    "        zc    = vertical center of circle / mm\n",
    "\n",
    "    NB: This function assumes a magnetic axis along the X direction.\n",
    "    \"\"\"\n",
    "    # sanity check: max_m <= nc\n",
    "    assert max_m <= nc, \"Argument nc must equal or exceed argument max_m.\"\n",
    "\n",
    "    fints = intB_2D_circle(mag, nc, ro, yc = yc, zc = zc)\n",
    "    θs    = np.linspace(0, - 2 * π, nc, endpoint = False)\n",
    "    mps   = [ np.sum( fints * (np.cos(m * θs) + 1j * np.sin(m * θs)) )\n",
    "                / nc / (ro ** m) for m in range(max_m) ]\n",
    "    return np.asarray(mps)"
   ]
  },
  {
   "cell_type": "markdown",
   "metadata": {},
   "source": [
    "Define functions to perform 2D harmonic analysis\n",
    "of a given multipole magnet on the basis of a set\n",
    "of points within a desired good-field region (GFR)\n",
    "of specified radius:"
   ]
  },
  {
   "cell_type": "code",
   "execution_count": null,
   "metadata": {},
   "outputs": [],
   "source": [
    "def intB_2D_disc(mag, n, r, α = 1, yc = 0., zc = 0.):\n",
    "    \"\"\"\n",
    "    Return an array of n integrated field strengths:\n",
    "      [ ∫ (Bv + i Bh)(y,z) dx for (y,z) in points ],\n",
    "    where points denotes a quasi-uniform (sunflower-seed) array\n",
    "    of n points inside (and on) a circle of radius r.\n",
    "\n",
    "    Arguments:\n",
    "        mag = magnet to analyse\n",
    "        n   = number of points\n",
    "        r   = radius of circle\n",
    "        α   = parameter to adjust the number of points on the\n",
    "                boundary of the circle: [ α * √n ]\n",
    "        yc    = horizontal center of circle / mm\n",
    "        zc    = vertical center of circle / mm\n",
    "\n",
    "    NB: Good choices for the parameter α lie in the range [0,2].\n",
    "    Values of α significantly above √2 begin yielding noticeable\n",
    "    gaps between interior and boundary points. For α = 0, all\n",
    "    points lie _inside_ the specified circle.\n",
    "    \"\"\"\n",
    "    points = [ (pt[0] + yc, pt[1] + zc) for pt in sunflower(n, α) ]\n",
    "    intBdx = [complex(0, 0)] * n\n",
    "    for i in range(n):\n",
    "        yi, zi = points[i]\n",
    "        iBv = rad.FldInt(mag, 'inf', 'ibz', [-1, yi, zi], [ 1, yi, zi])\n",
    "        iBh = rad.FldInt(mag, 'inf', 'iby', [-1, yi, zi], [ 1, yi, zi])\n",
    "        intBdx[i] = complex(iBv, iBh)\n",
    "    return np.asarray(points), np.asarray(intBdx)"
   ]
  },
  {
   "cell_type": "code",
   "execution_count": null,
   "metadata": {},
   "outputs": [],
   "source": [
    "def mpoles_from_disc(mag, max_m, n, ro, yc = 0., zc = 0.):\n",
    "    \"\"\"\n",
    "    Return an array of complex 2m-pole strengths (b_m + i a_m) derived\n",
    "    from the integrated 2D-complex field integrals ∫(Bv + i Bh)ds\n",
    "    evaluated at a set of n 2D-points lying within and on a circle\n",
    "    of radius ro centered at the the point (yc, zc).\n",
    "\n",
    "    The integrated 2D field strength has the form\n",
    "        B(r,θ) = Bo Σ_{n=1}^{∞} (b_n + i a_n) z^{n-1},\n",
    "    where z = x + i y = r e^{iθ}.\n",
    "    \n",
    "    Arguments:\n",
    "        mag   = magnet to analyse\n",
    "        max_m = maximum multipole index\n",
    "        n     = number of points at which to compute field integrals\n",
    "        ro    = radius of circle within which to compute integrals\n",
    "        yc    = horizontal center of circle / mm\n",
    "        zc    = vertical center of circle / mm\n",
    "\n",
    "    NB: This function assumes a magnetic axis along the X direction.\n",
    "    \"\"\"\n",
    "    # sanity check: max_m <= n\n",
    "    assert max_m <= n, \"Argument n must equal or exceed argument max_m.\"\n",
    "\n",
    "    zs, fints = intB_2D_disc(mag, n, ro, α = 1, yc = yc, zc = zc)\n",
    "    zs = zs[:,0] + 1j * zs[:,1]\n",
    "    mx_Znm = np.power.outer(zs, range(max_m))\n",
    "    return np.matmul(np.linalg.pinv(mx_Znm), fints)"
   ]
  },
  {
   "cell_type": "markdown",
   "metadata": {
    "tags": []
   },
   "source": [
    "## _Define functions to build general multipole magnets_"
   ]
  },
  {
   "cell_type": "markdown",
   "metadata": {
    "tags": []
   },
   "source": [
    "First we define a function that outlines the pole tip cross-section of\n",
    "a desired multipole magnet."
   ]
  },
  {
   "cell_type": "code",
   "execution_count": null,
   "metadata": {},
   "outputs": [],
   "source": [
    "def pole_tip_path(n_poles, width, gap, height, n_curve = 6,\n",
    "                  poletip_frac = 0.5, yoketip_frac = 0.6, αl = None, βl = None):\n",
    "    \"\"\"\n",
    "    Return a discretized path that outlines the pole tip cross-section.\n",
    "\n",
    "    Arguments:\n",
    "        n_poles      = number of magnet pole tips (even integer)\n",
    "        width        = width of pole tip / mm\n",
    "        gap          = distance between opposing pole tips / mm\n",
    "        height       = height of pole tip / mm\n",
    "        n_curve      = number of intervals for discretizing (half) the pole face\n",
    "        poletip_frac = lower fraction of pole tip, possibly subject to finer segmentation\n",
    "        yoketip_frac = ratio of yoke height (or depth) to pole tip width\n",
    "        αl           = 1D array of parameters for modifying the pole tip shape\n",
    "        βl           = 1D array of parameters for modifying the pole tip shape\n",
    "                         NB: You must supply both αl and bl, or neither.\n",
    "\n",
    "    The pole tip’s nominal shape is that of a hyperbola: z^2 - (hyp * y)^2 = z0^2,\n",
    "    which has asymptotes z = ±hyp * y. If present, the 1D parameter arrays αl and βl\n",
    "    serve to modify that nominal pole shape.\n",
    "    \"\"\"\n",
    "    # sanity check: αl and βl both absent or both 1D arrays?\n",
    "    assert αl is None and βl is None \\\n",
    "        or len(np.shape(αl)) == 1 and len(np.shape(βl)) == 1, \\\n",
    "        \"If not absent, arguments αl and βl must both be 1D arrays.\"\n",
    "    # sanity check: αl and βl have the same length?\n",
    "    if αl is not None:\n",
    "        assert len(αl) == len(βl), \"Arguments αl and βl must have the same length.\"\n",
    "\n",
    "    # define some geometric parameters\n",
    "    tan_np = tan(π / n_poles)\n",
    "    hyp = 1 / tan_np  # slope of hyperbola's asymptote\n",
    "    z0 = gap / 2\n",
    "    ym = width / 2\n",
    "    zm = hypot(hyp * ym, z0)\n",
    "    # sanity check: pole tip includes all of pole face?\n",
    "    assert zm < z0 + height, \\\n",
    "          \"Pole tip height too short to accommodate entire curved pole face.\"\n",
    "\n",
    "    # construct hyperbolic path\n",
    "    dy = ym / n_curve\n",
    "    ny = n_curve + 2  # go two points beyond so we don't have to extend the array\n",
    "    Γ_tip = [ [iy * dy, hypot(hyp * iy * dy, z0)] for iy in range(ny + 1) ]\n",
    "    # and\n",
    "    # modify last two points so as to outline lower portion of the (half) pole tip\n",
    "    ht_lower = poletip_frac * height\n",
    "    # sanity check: lower fraction of pole tip includes all of pole face?\n",
    "    assert zm < z0 + ht_lower, \\\n",
    "          \"Lower fraction of pole tip cannot accommodate entire pole face.\"\n",
    "    Γ_tip[n_curve + 1] = [ym, z0 + ht_lower]\n",
    "    Γ_tip[n_curve + 2] = [ 0, z0 + ht_lower]\n",
    "\n",
    "    # modify pole tip according to the parameter arrays αl and βl\n",
    "    if αl is not None:\n",
    "        # compute perturbations\n",
    "        # DTA: Consider using Chebyshev polynomials.\n",
    "        ξ = np.asarray([ leg.Legendre(αl)(2. * k / n_curve - 1.) for k in range(n_curve + 1) ])\n",
    "        ψ = np.asarray([ leg.Legendre(βl)(2. * k / n_curve - 1.) for k in range(n_curve + 1) ])\n",
    "        # DTA: Must we perform this rotation?\n",
    "        δy = (ξ - ψ) / rt2\n",
    "        δz = (ξ + ψ) / rt2\n",
    "        # and add to pole tip curve\n",
    "        for k in range(n_curve + 1):\n",
    "            Γ_tip[k][0] += 0 * δy[k]\n",
    "            Γ_tip[k][1] += δz[k]\n",
    "        Γ_tip[0][0] = 0. # central point must not move sideways\n",
    "    \n",
    "    return Γ_tip"
   ]
  },
  {
   "cell_type": "markdown",
   "metadata": {
    "tags": []
   },
   "source": [
    "Now we define a function that creates a multipole magnet. The various\n",
    "arguments (detailed in the function’s docstring) specify the geometry,\n",
    "material properties, current, and segmentation of this model magnet."
   ]
  },
  {
   "cell_type": "code",
   "execution_count": null,
   "metadata": {},
   "outputs": [],
   "source": [
    "def build_multipole(n_poles, thick, width, gap, height, chamfer, tip_coil_sep,\n",
    "                    iron_mat, curr_density, αl = None, βl = None,\n",
    "                    r_min = 2., clearance = 2.,\n",
    "                    poletip_frac = 0.5, yoketip_frac = 0.6,\n",
    "                    chamfer_ang = 45., skew = False, n_curve = 6,\n",
    "                    nx = 2, ny = 2, nzlt = 3, nzut = 3, nat = 2, nycb = 3, nac = 2,\n",
    "                    iron_color = [0.0, 0.7, 0.9], coil_color = [1.0, 0.3, 0.3]):\n",
    "    \"\"\"\n",
    "    Return a Radia representation of a simple multipole electromagnet with the shape\n",
    "    of its pole tip modified according to the parameter arrays αl and βl.\n",
    "\n",
    "    Required Arguments:\n",
    "        n_poles      = number of magnet pole tips (even integer)\n",
    "        thick        = length of iron yoke along particle trajectory / mm\n",
    "        width        = width of pole tip / mm\n",
    "        gap          = distance between opposing pole tips / mm\n",
    "        height       = height of pole tip / mm\n",
    "        chamfer      = size of chamfer on pole tip ends / mm\n",
    "        tip_coil_sep = distance by which coil edge is set back from the pole tip / mm\n",
    "        iron_mat     = Radia representation of the iron’s magnetic characteristics\n",
    "                         (e.g. M-H curve)\n",
    "        curr_density = current density / (A / mm^2)\n",
    "    Optional Arguments:\n",
    "        αl           = 1D array of parameters for modifying the pole tip shape\n",
    "        βl           = 1D array of parameters for modifying the pole tip shape\n",
    "                         NB: You must supply both αl and bl, or neither.\n",
    "        r_min        = minimum coil radius / mm\n",
    "        clearance    = clearance between coil corner and diagonal between sectors / mm\n",
    "        poletip_frac = lower fraction of pole tip, possibly subject to finer segmentation\n",
    "        yoketip_frac = ratio of yoke height (or depth) to pole tip width\n",
    "        chamfer_ang  = angle of chamfer normal w/rt pole tip axis / deg\n",
    "        skew         = False | True | (angle from ‘normal’ / deg)\n",
    "        n_curve      = number of intervals for discretizing (half) the pole face\n",
    "        nx           = number of segments along X axis, within distance thick / 2\n",
    "        ny           = number of segments along Y axis, within distance width / 2\n",
    "        nzlt         = number of segments along Z axis, lower portion of pole tip\n",
    "        nzut         = number of segments along Z axis, upper portion of pole tip\n",
    "        nat          = number of azimuthal segments at top of pole tip\n",
    "        nycb         = number of segments along Y axis, along the yoke cross bar\n",
    "        nac          = number of azimuthal segments at corner of yoke\n",
    "        iron_color   = color to use for iron yoke and pole tips\n",
    "        coil_color   = color to use for current-carrying coils\n",
    "\n",
    "    In the above context, the coordinate axes X, Y, Z respectively align with the\n",
    "    beam trajectory, across the pole tip, and parallel to the pole tip, with the\n",
    "    origin at the center of the magnet.\n",
    "\n",
    "    This function constructs one-fourth (right front) of one sector of a multipole\n",
    "    magnet. It then applies appropriate symmetries to construct the full magnet,\n",
    "    and then orients the magnet as desired.\n",
    "\n",
    "    To Check: Does positive current correspond to positive field strength?\n",
    "              Does skew have the correct orientation?\n",
    "    \"\"\"\n",
    "    # sanity check: even number of magnetic poles?\n",
    "    assert n_poles % 2 == 0, \"Argument n_poles must equal an even integer.\"\n",
    "    # sanity check: positive coil height?\n",
    "    assert tip_coil_sep < height, \"Tip-coil separation exceeds height of pole tip.\"\n",
    "    # sanity check: chamfers do not cut into all of pole tip?\n",
    "    assert chamfer < thick / 2, \"Chamfer too large.\"\n",
    "\n",
    "    # define a few useful vectors\n",
    "    ctr   = [0, 0, 0]\n",
    "    x_hat = [1, 0, 0]\n",
    "    y_hat = [0, 1, 0]\n",
    "    z_hat = [0, 0, 1]\n",
    "\n",
    "    # define segmentation parameters\n",
    "    # :: [nx, ny, nz] or [nr, na, nl]\n",
    "    n1 = [nx, ny,   nzlt]  # lower pole tip\n",
    "    n2 = [nx, ny,   nzut]  # upper pole tip\n",
    "    n3 = [ny, nat,  nx  ]  # top of pole tip\n",
    "    n4 = [nx, nycb, ny  ]  # cross bar\n",
    "    n5 = [ny, nac,  nx  ]  # corner\n",
    "\n",
    "    # define some derived geometric parameters\n",
    "    tan_np = tan(π / n_poles)\n",
    "    hyp = 1 / tan_np  # slope of hyperbola's asymptote\n",
    "    z0 = gap / 2\n",
    "    ym = width / 2\n",
    "    zm = hypot(hyp * ym, z0)\n",
    "    ht_lower = poletip_frac * height\n",
    "\n",
    "    # create the discretized path that outlines the pole tip cross-section\n",
    "    Γ_tip = pole_tip_path(n_poles, width, gap, height, n_curve = 6,\n",
    "                          poletip_frac = poletip_frac, yoketip_frac = yoketip_frac,\n",
    "                          αl = αl, βl = βl)\n",
    "    if αl is not None: δgap = 2 * Γ_tip[0][1] - gap\n",
    "\n",
    "    # create and segment the lower portion of the (half) pole tip\n",
    "    if αl is not None: # pole tip cross-section may not be convex\n",
    "        tri_kq = np.full((len(Γ_tip), 2), [1, 1]).tolist()\n",
    "        tri_kq[-3] = [round((ht_lower - (zm - z0)) / (ym / n_curve)), 1]\n",
    "        tri_kq[-2] = [n_curve, 1]\n",
    "        tri_kq[-1] = [round(ht_lower / (ym / n_curve)), 1]\n",
    "        g_tip = rad.ObjMltExtTri(thick / 4, thick / 2, Γ_tip, tri_kq)\n",
    "    else:\n",
    "        g_tip = rad.ObjThckPgn(thick / 4, thick / 2, Γ_tip)\n",
    "        rad.ObjDivMag(g_tip, n1)\n",
    "\n",
    "    # create and segment the upper portion of the (half) pole tip\n",
    "    ht_upper = height - ht_lower\n",
    "    g_pole = rad.ObjRecMag([thick / 4, width / 4, z0 + height - ht_upper / 2],\n",
    "                       [thick / 2, width / 2, ht_upper])\n",
    "    rad.ObjDivMag(g_pole, n2)\n",
    "\n",
    "    # combine the lower and upper portions of the (half) pole tip\n",
    "    g_pt = rad.ObjCnt([g_tip, g_pole])\n",
    "    # and\n",
    "    # cut chamfer, then retain desired metal\n",
    "    θ = chamfer_ang * degree\n",
    "    g_poletip = rad.ObjCutMag(g_pt, [thick / 2 - chamfer, 0, z0],\n",
    "                              [sin(θ), 0, -cos(θ)])[0]\n",
    "\n",
    "    # create and segment \"corner\" above (half) pole tip\n",
    "    depth = yoketip_frac * width\n",
    "    g_top = rad.ObjRecMag([thick / 4, width / 4, z0 + height + depth / 2],\n",
    "                       [thick / 2, width / 2, depth])\n",
    "    cy = [ [[0, ym, z0 + height], x_hat], [0, 0, z0 + height], 2 * depth / width ]\n",
    "    rad.ObjDivMag(g_top, n3, 'cyl', cy)\n",
    "\n",
    "    # create and segment horizontal yoke segment to corner\n",
    "    length = tan_np * (z0 + height) - ym\n",
    "    g_bar = rad.ObjRecMag([thick / 4, ym + length / 2, z0 + height + depth / 2],\n",
    "                       [thick / 2,length, depth])\n",
    "    rad.ObjDivMag(g_bar, n4)\n",
    "\n",
    "    # outline the corner\n",
    "    yc = ym + length\n",
    "    zc = z0 + height\n",
    "    Γ_corner = [[yc, zc], [yc, zc + depth], [yc + depth * tan_np, zc + depth]]\n",
    "    # and\n",
    "    # create and segment yoke corner\n",
    "    g_corner = rad.ObjThckPgn(thick / 4, thick / 2, Γ_corner)\n",
    "    cy = [[[0, yc, zc], x_hat], [0, yc, zc + depth], 1]\n",
    "    rad.ObjDivMag(g_corner, n5, 'cyl', cy)\n",
    "\n",
    "    # create container for the (half) pole tip plus attached crossbar\n",
    "    g_yoke = rad.ObjCnt([g_poletip, g_top, g_bar, g_corner])\n",
    "    # specify the iron\n",
    "    rad.MatApl(g_yoke, iron_mat)\n",
    "    # and set color for iron\n",
    "    rad.ObjDrwAtr(g_yoke, iron_color)\n",
    "\n",
    "    # create coil1\n",
    "    ht_coil = height - tip_coil_sep\n",
    "    # sanity check: coil does not extend below outer edge of curved pole tip\n",
    "    assert zm < z0 + height - ht_coil, \\\n",
    "           \"Inner coil will obscure part of the curved pole tip.\"\n",
    "    wd_to_diagonal = (gap / 2 + tip_coil_sep) * tan_np\n",
    "    r1 = wd_to_diagonal - clearance - ym + r_min\n",
    "    coil1 = rad.ObjRaceTrk([0, 0, z0 + height - ht_coil / 2], [r_min, r1],\n",
    "                           [thick, width - 2 * r_min],\n",
    "                           ht_coil, 3, curr_density)\n",
    "    # and set color for coil1\n",
    "    rad.ObjDrwAtr(coil1, coil_color)\n",
    "\n",
    "    # create coil2\n",
    "    ht_coil = (height - tip_coil_sep) / 2\n",
    "    wd_to_diagonal = (z0 + height - ht_coil) * tan_np\n",
    "    r2 = wd_to_diagonal - clearance - ym + r_min\n",
    "    coil2 = rad.ObjRaceTrk([0, 0, z0 + height - ht_coil / 2], [r1, r2],\n",
    "                           [thick, width - 2 * r_min],\n",
    "                           ht_coil, 3, curr_density)\n",
    "    # and set color for coil2\n",
    "    rad.ObjDrwAtr(coil2, coil_color)\n",
    "\n",
    "    # apply symmetries to create full pole tip plus attached crossbar\n",
    "    # :: reflection in y-z plane, with zero field perpendicular to the plane\n",
    "    rad.TrfZerPerp(g_yoke, ctr, x_hat)\n",
    "    # :: reflection in z-x plane, with zero field perpendicular to the plane\n",
    "    rad.TrfZerPerp(g_yoke, ctr, y_hat)\n",
    "\n",
    "    # create container for full magnet: here iron yoke plus coils in one sector\n",
    "    g_magnet = rad.ObjCnt([g_yoke, coil1, coil2])\n",
    "\n",
    "    # :: reflection across diagonal plane, with zero field parallel to the plane\n",
    "    rad.TrfZerPara(g_magnet, ctr, [0, cos(π / n_poles), sin(π / n_poles)])\n",
    "    # ==>> at this point we have a matched pair of pole tips\n",
    "    #      they subtend an angle 2 * (2π / n_poles) = 4π / n_poles\n",
    "\n",
    "    # apply rotation symmetries to create full multipole electromagnet\n",
    "    rad.TrfMlt(g_magnet, rad.TrfRot(ctr, x_hat, 4 * π / n_poles), int(n_poles / 2))\n",
    "\n",
    "    # ensure upright orientation of this multipole\n",
    "    if n_poles % 4 == 0:\n",
    "        rad.TrfOrnt(g_magnet, rad.TrfRot(ctr, x_hat, π / n_poles))\n",
    "\n",
    "    # adjust orientation for skew multipole\n",
    "    if skew == False:\n",
    "        skew_angle = 0.\n",
    "    elif skew == True:\n",
    "        skew_angle = (π / n_poles)\n",
    "    elif isinstance(skew, numbers.Number):\n",
    "        skew_angle = skew * degree\n",
    "    else:\n",
    "        assert False, \"The argument skew must equal one of \" \\\n",
    "                      \"True, False, or numeric angle in degrees.\"\n",
    "    if skew_angle != 0.:\n",
    "        rad.TrfOrnt(g_magnet, rad.TrfRot(ctr, x_hat, skew_angle))\n",
    "\n",
    "    if αl is not None:\n",
    "        return g_magnet, δgap\n",
    "    else:\n",
    "        return g_magnet"
   ]
  },
  {
   "cell_type": "markdown",
   "metadata": {
    "tags": []
   },
   "source": [
    "## _Build a multipole magnet and solve for the fields_"
   ]
  },
  {
   "cell_type": "markdown",
   "metadata": {
    "tags": []
   },
   "source": [
    "First set the various parameters that specify the properties—geometry,\n",
    "materials, and currents—of our quadrupole. Then also decide how finely\n",
    "to segment the iron."
   ]
  },
  {
   "cell_type": "code",
   "execution_count": null,
   "metadata": {},
   "outputs": [],
   "source": [
    "## arguments for build_multipole()\n",
    "# required arguments:\n",
    "n_poles      =  4   # number of magnet pole tips (even integer)\n",
    "thick        = 60.  # length of iron yoke along particle trajectory / mm\n",
    "width        = 30.  # width of pole tip / mm\n",
    "gap          = 40.  # distance between opposing pole tips / mm\n",
    "height       = 50.  # height of pole tip / mm\n",
    "chamfer      =  8.  # size of chamfer on pole tip ends / mm\n",
    "tip_coil_sep = 10.  # distance by which coil edge is set back from the pole tip / mm\n",
    "# iron_mat     =      # Radia representation of the iron’s magnetic characteristics\n",
    "curr_density = -3.  # current density / (A / mm^2)\n",
    "\n",
    "## optional arguments:\n",
    "# αl           = None   # 1D array of parameters for modifying the pole tip shape\n",
    "# βl           = None   # 1D array of parameters for modifying the pole tip shape\n",
    "# r_min        =  2.0   # minimum coil radius / mm\n",
    "# clearance    =  2.0   # clearance between coil corner and diagonal between sectors / mm\n",
    "# poletip_frac =  0.5   # lower fraction of pole tip, possibly subject to finer segmentation\n",
    "# yoketip_frac =  0.6   # ratio of yoke height (or depth) to pole tip width\n",
    "# chamfer_ang  = 45.0   # angle of chamfer normal w/rt pole tip axis / deg\n",
    "# skew         = False  # False | True | (angle from ‘normal’ / deg)\n",
    "# n_curve      = 6      # number of intervals for discretizing (half) the pole face\n",
    "# nx           = 2      # number of segments along X axis, within distance thick / 2\n",
    "# ny           = 2      # number of segments along Y axis, within distance width / 2\n",
    "# nzlt         = 3      # number of segments along Z axis, lower portion of pole tip\n",
    "# nzut         = 3      # number of segments along Z axis, upper portion of pole tip\n",
    "nat          = 4      # number of azimuthal segments at top of pole tip\n",
    "# nycb         = 3      # number of segments along Y axis, along the yoke cross bar\n",
    "# nac          = 2      # number of azimuthal segments at corner of yoke\n",
    "# iron_color   = [0.0, 0.7, 0.9]  # color to use for iron yoke and pole tips\n",
    "# coil_color   = [1.0, 0.3, 0.3]  # color to use for current-carrying coils"
   ]
  },
  {
   "cell_type": "markdown",
   "metadata": {},
   "source": [
    "Now build and display this magnet:"
   ]
  },
  {
   "cell_type": "code",
   "execution_count": null,
   "metadata": {},
   "outputs": [],
   "source": [
    "rad.UtiDelAll()\n",
    "\n",
    "t0 = tm.time()\n",
    "iron = rad.MatSatIsoFrm([2000, 2], [0.1, 2], [0.1, 2])\n",
    "# magnet = build_multipole(n_poles, thick, width, gap, height, chamfer, tip_coil_sep, iron, curr_density)\n",
    "magnet = build_multipole(n_poles, thick, width, gap, height, chamfer, tip_coil_sep, iron, curr_density,\n",
    "                         nat = 4)\n",
    "# magnet = build_multipole(n_poles, thick, width, gap, height, chamfer, tip_coil_sep, iron, curr_density,\n",
    "#                          nx = 3, ny = 3, nzlt = 4, nat = 4, nycb = 4)\n",
    "# magnet, dg = build_multipole(n_poles, thick, width, gap, height, chamfer, tip_coil_sep, iron, curr_density,\n",
    "#                              αl, βl)\n",
    "t1 = tm.time()\n",
    "size = rad.ObjDegFre(magnet)\n",
    "\n",
    "print('Built in time', round((t1 - t0) / si_m, 3), 'ms')\n",
    "print('Interaction matrix:', size, 'x', size, '.equiv.', (4 * size * size / si_M), 'MBytes')\n",
    "\n",
    "# set up the radia viewer and display the magnet\n",
    "rv = radia_viewer.RadiaViewer()\n",
    "if n_poles == 4:\n",
    "    rv.add_geometry('Quadrupole Magnet', magnet)\n",
    "else:\n",
    "    rv.add_geometry('Multipole Magnet', magnet)\n",
    "rv.display()"
   ]
  },
  {
   "cell_type": "code",
   "execution_count": null,
   "metadata": {},
   "outputs": [],
   "source": [
    "# solve for the magnetization\n",
    "prec     = 10.e-6 # precision for this computation\n",
    "max_iter = 10000  # maximum allowed iterations\n",
    "t0  = tm.time()\n",
    "res = rad.Solve(magnet, prec, max_iter)\n",
    "t1  = tm.time()\n",
    "\n",
    "print(\"Solved for magnetization in time {0:6f} s\".format(t1 - t0))\n",
    "print(\"Relaxation results\")\n",
    "print(\"  number of iterations: {0:5d}\".format(int(res[3])))\n",
    "if(res[3] == max_iter):\n",
    "    print(\"    >> unstable or incomplete relaxation\")\n",
    "print(\"  average stability of magnetization at last iteration: {0:.4e} T\".format(res[0]))\n",
    "print(\"  maximum absolute magnetization at last iteration: {0:.5f} T\".format(res[1]))\n",
    "print(\"  maximum H vector at last iteration: {0:.5f} T\".format(res[2]))\n",
    "# print(\"Pole-tip magnetic field: {0:.8f} T\".format(rad.Fld(quad, 'bz', [x,y,z])))b"
   ]
  },
  {
   "cell_type": "markdown",
   "metadata": {},
   "source": [
    "We compute the quadrupole gradient by measuring the vertical field $B_z$\n",
    "at the point $(0, 1, 0)$—_i.e._ $1\\,\\text{mm}$ off-axis in the horizontal plane.\n",
    "We then multiply by $10^3$ to convert to units of $\\text{T}/\\text{m}$.\n"
   ]
  },
  {
   "cell_type": "code",
   "execution_count": null,
   "metadata": {},
   "outputs": [],
   "source": [
    "Bz1   = rad.Fld(magnet, 'Bz', [0, 1, 0]) * 1e3\n",
    "Bz10  = rad.Fld(magnet, 'Bz', [0,10, 0]) * 1e3 / 10\n",
    "print(' quadrupole gradient: {0:8.4f} T/m'.format(Bz1))\n",
    "print(' δ gradient at 10 mm: {0:8.4f} %'.format((Bz10 / Bz1 - 1) * 100))  # rel. var. in field gradient\n",
    "print()\n",
    "\n",
    "IBz1  = rad.FldInt(magnet, 'inf', 'ibz', [-1, 1, 0], [1, 1, 0])\n",
    "IBz10 = rad.FldInt(magnet, 'inf', 'ibz', [-1,10, 0], [1,10, 0]) / 10\n",
    "print('  int.quad. at  1 mm: {0:9.5f} T'.format(IBz1))\n",
    "print('δ int.quad. at 10 mm: {0:8.4f} %'.format((IBz10 / IBz1 - 1) * 100))  # rel. var. in field integral"
   ]
  },
  {
   "cell_type": "code",
   "execution_count": null,
   "metadata": {},
   "outputs": [],
   "source": [
    "mpoles_from_circle(magnet, 10, 40, 19.)"
   ]
  },
  {
   "cell_type": "code",
   "execution_count": null,
   "metadata": {},
   "outputs": [],
   "source": [
    "mpoles_from_disc(magnet, 10, 40, 19.)"
   ]
  },
  {
   "cell_type": "code",
   "execution_count": null,
   "metadata": {},
   "outputs": [],
   "source": [
    "mpoles_from_circle(magnet, 10, 40, 10., yc = 10., zc = 0.)"
   ]
  },
  {
   "cell_type": "code",
   "execution_count": null,
   "metadata": {},
   "outputs": [],
   "source": [
    "mpoles_from_circle(magnet, 10, 40, 3., yc = 10., zc = 0.)"
   ]
  },
  {
   "cell_type": "code",
   "execution_count": null,
   "metadata": {},
   "outputs": [],
   "source": [
    "mpoles_from_disc(magnet, 10, 40, 10., yc = 10., zc = 0.)"
   ]
  },
  {
   "cell_type": "code",
   "execution_count": null,
   "metadata": {},
   "outputs": [],
   "source": [
    "mpoles_from_disc(magnet, 10, 40, 3., yc = 10., zc = 0.)"
   ]
  },
  {
   "cell_type": "code",
   "execution_count": null,
   "metadata": {},
   "outputs": [],
   "source": [
    "ro   = 19.\n",
    "maxm = 10\n",
    "n    = 100\n",
    "ms = mpoles_from_disc(magnet, maxm, n, ro)\n",
    "nd = 9\n",
    "round_ms = [ complex(round(ms[i].real, nd), round(ms[i].imag, nd)) for i in range(maxm) ];\n",
    "print('multipole field strengths:')\n",
    "print(round_ms)"
   ]
  },
  {
   "cell_type": "code",
   "execution_count": null,
   "metadata": {},
   "outputs": [],
   "source": [
    "rmax  =  19.\n",
    "nrad  =  19\n",
    "ncirc = 120\n",
    "[ (j * rmax / nrad, list(mpoles_from_circle(magnet, 6, ncirc, j * rmax / nrad)[[1,5]].real)) for j in range(1, nrad + 1) ]"
   ]
  },
  {
   "cell_type": "code",
   "execution_count": null,
   "metadata": {},
   "outputs": [],
   "source": [
    "rmax  =  19.\n",
    "nrad  =  19\n",
    "ncirc = 120\n",
    "[ (j * rmax / nrad, list(mpoles_from_disc(magnet, 6, ncirc, j * rmax / nrad)[[1,5]].real)) for j in range(1, nrad + 1) ]"
   ]
  },
  {
   "cell_type": "markdown",
   "metadata": {},
   "source": [
    "## _Plot the magnetic field and field integrals_"
   ]
  },
  {
   "cell_type": "markdown",
   "metadata": {},
   "source": [
    "Here we show plots of magnetic field in the gap and corresponding\n",
    "field integrals. The field values are obtained by calling `FldLst`.\n",
    "\n",
    "The first graphic here displays the mid-plane vertical field as a\n",
    "function of transverse position, whereas the second displays the\n",
    "same field component as a function of longitudinal position.\n",
    "The last graphic shows the relative variation in the horizontal\n",
    "plane of the integrated magnetic field gradient."
   ]
  },
  {
   "cell_type": "code",
   "execution_count": null,
   "metadata": {},
   "outputs": [],
   "source": [
    "# plots of magnetic field\n",
    "\n",
    "# mid-plane vertical B-field vs q_horizontal at two longitudinal positions\n",
    "n_pts = 20\n",
    "z     =  0.  # mid-plane\n",
    "x1    =  0.  # longitudinal center\n",
    "x2    = 30.  # at chamfer\n",
    "ymax  = 40.  # well inside the pole tip at y = 20 mm\n",
    "BzVy1 = rad.FldLst(magnet, 'bz', [x1, 0, z], [x1, ymax, z], n_pts, 'arg', 0)\n",
    "BzVy2 = rad.FldLst(magnet, 'bz', [x2, 0, z], [x2, ymax, z], n_pts, 'arg', 0)\n",
    "uti_plot1d_m([BzVy1, BzVy2],\n",
    "             labels = ['Y', 'Vertical Magnetic Field', 'Vertical Magnetic Field vs. Horizontal Position'],\n",
    "             units = ['mm', 'T'], styles = ['-b.', '-r.'],\n",
    "             legend = ['X = {} mm'.format(x1), 'X = {} mm'.format(x2)])\n",
    "\n",
    "\n",
    "# mid-plane vertical B-field vs q_longitudinal at two transverse positions\n",
    "xmax = 1.5 * thick\n",
    "y1 = width / 4\n",
    "y2 = width / 2\n",
    "BzVx1 = rad.FldLst(magnet, 'bz', [-xmax, y1, z], [xmax, y1, z], 2 * n_pts, 'arg', 0)\n",
    "BzVx2 = rad.FldLst(magnet, 'bz', [-xmax, y2, z], [xmax, y2, z], 2 * n_pts, 'arg', 0)\n",
    "uti_plot1d_m([BzVx1, BzVx2],\n",
    "             labels = ['X', 'Vertical Magnetic Field', 'Vertical Magnetic Field vs. Longitudinal Position'],\n",
    "             units = ['mm', 'T'], styles = ['-b.', '-r.'],\n",
    "             legend = ['Y = {} mm'.format(y1), 'Y = {} mm'.format(y2)])\n",
    "\n",
    "# plot relative variation in the horizontal plane of the integrated magnetic field gradient \n",
    "z    =  0.  # mid-plane\n",
    "ymin =  0.001\n",
    "ymax = 10.\n",
    "npy  = 20\n",
    "dy   = (ymax - ymin) / (npy - 1)\n",
    "IBz1 = rad.FldInt(magnet, 'inf', 'ibz', [-1, 1, z], [1, 1, z])\n",
    "\n",
    "IBzVsY = [ (rad.FldInt(magnet, 'inf', 'ibz', [-1, ymin + iy * dy, z], [ 1, ymin + iy * dy, z]) /\n",
    "            ((ymin + iy * dy) * IBz1)  - 1) * 100 for iy in range(npy) ]\n",
    "uti_plot1d(IBzVsY, [ymin, ymax, npy],\n",
    "           ['Y', 'dIBz', 'Rel. Var. of Integrated Vertical Field vs. Y at Z = ' + repr(z) + ' mm'], ['mm', '%'])\n",
    "\n",
    "# harmonic analysis of the field integrals\n",
    "nharm = 10; radius = 2; y = 0; z = 0\n",
    "# :: integrated field values on a circle\n",
    "# :: ms = [ (bm + i am) for m in range(1, nharm + 1) ]\n",
    "# w = intB_2D_circle(magnet, nharm, radius, y, z)\n",
    "# ms = mpole_strengths(w, nharm)\n",
    "ms = mpoles_from_circle(magnet, nharm, 120, radius, y, z)\n",
    "round_ms = [ complex(round(ms[i].real, 9), round(ms[i].imag, 9)) for i in range(nharm) ];\n",
    "print('Multipole field strengths:')\n",
    "print(round_ms)\n",
    "print()\n",
    "\n",
    "uti_plot_show()"
   ]
  },
  {
   "cell_type": "raw",
   "metadata": {},
   "source": [
    "np.savetxt(nb_dir + \"BzVy1.txt\", BzVy1)\n",
    "np.savetxt(nb_dir + \"BzVy2.txt\", BzVy2)\n",
    "np.savetxt(nb_dir + \"BzVx1.txt\", BzVx1)\n",
    "np.savetxt(nb_dir + \"BzVx2.txt\", BzVx2)"
   ]
  },
  {
   "cell_type": "markdown",
   "metadata": {},
   "source": [
    "### Compare results"
   ]
  },
  {
   "cell_type": "code",
   "execution_count": null,
   "metadata": {},
   "outputs": [],
   "source": [
    "BzVy1_sv = np.loadtxt(nb_dir + \"BzVy1.txt\")\n",
    "BzVy2_sv = np.loadtxt(nb_dir + \"BzVy2.txt\")\n",
    "BzVx1_sv = np.loadtxt(nb_dir + \"BzVx1.txt\")\n",
    "BzVx2_sv = np.loadtxt(nb_dir + \"BzVx2.txt\")"
   ]
  },
  {
   "cell_type": "code",
   "execution_count": null,
   "metadata": {},
   "outputs": [],
   "source": [
    "uti_plot1d_m([BzVy1, BzVy2, BzVy1_sv, BzVy2_sv],\n",
    "             labels = ['Y', 'Vertical Magnetic Field',\n",
    "                       'Vertical Magnetic Field vs. Horizontal Position'],\n",
    "             units = ['mm', 'T'], styles = ['-b.', '-r.', '--g.', '--g.'],\n",
    "             legend = ['X = {} mm'.format(x1), 'X = {} mm'.format(x2)])\n",
    "\n",
    "uti_plot1d_m([BzVx1, BzVx2, BzVx1_sv, BzVx2_sv],\n",
    "             labels = ['X', 'Vertical Magnetic Field',\n",
    "                       'Vertical Magnetic Field vs. Longitudinal Position'],\n",
    "             units = ['mm', 'T'], styles = ['-b.', '-r.', '--g.', '--g.'],\n",
    "             legend = ['Y = {} mm'.format(y1), 'Y = {} mm'.format(y2)])\n",
    "\n",
    "uti_plot_show()"
   ]
  },
  {
   "cell_type": "markdown",
   "metadata": {
    "tags": []
   },
   "source": [
    "## _Optimize pole tip shape of a quadrupole magnet_"
   ]
  },
  {
   "cell_type": "markdown",
   "metadata": {},
   "source": [
    "Define _merit function_."
   ]
  },
  {
   "cell_type": "code",
   "execution_count": null,
   "metadata": {},
   "outputs": [],
   "source": [
    "def penalty(δ, w, p0 = 1.e-8, pe = 10):\n",
    "    \"\"\"\n",
    "    Return a penalty value that increases as δ differs from zero,\n",
    "    but keep the penalty below a given threshold p0 for |δ| < w.\n",
    "\n",
    "    Arguments:\n",
    "        δ  = the value (usually a difference) to penalize\n",
    "        w  = range of acceptable values (±) for δ\n",
    "        p0 = threshold penalty value\n",
    "        pe = penalty exponent -- controls rate of penalty increase\n",
    "\n",
    "    DTA: Could implement several types of penalty functions.\n",
    "    \"\"\"\n",
    "    return p0 * abs(δ / w) ** pe"
   ]
  },
  {
   "cell_type": "code",
   "execution_count": null,
   "metadata": {},
   "outputs": [],
   "source": [
    "def gfr_residuals(params, normalize = None):\n",
    "    \"\"\"\n",
    "    Return the (real) residuals to use for optimizing\n",
    "    a given multipole magnet on the basis of the input\n",
    "    parameters.\n",
    "    \n",
    "    Arguments:\n",
    "      params    = list of parameters\n",
    "      normalize = None|'b#'|'a#', # denotes a one-or two-digit integer\n",
    "\n",
    "    If the optional argument normalize is set, the corresponding\n",
    "    multipole coefficient will be used to normalize the\n",
    "    multipole coefficients.\n",
    "    \"\"\"\n",
    "    # decode the parameter array\n",
    "    assert len(params) % 2 == 0, \\\n",
    "        \"This function requires an even number of parameters.\"\n",
    "    nps = len(params) // 2\n",
    "    αl = params[ :nps]\n",
    "    βl = params[-nps:]\n",
    "\n",
    "    # sanity check: normalize matches ...\n",
    "    if normalize is not None:\n",
    "        p = re.compile('^[ba][1-9][0-9]?$')\n",
    "        assert p.match(normalize), \\\n",
    "          \"The global variable normalize is not of the form \" + \\\n",
    "          \"'b#' or 'a#', where # denote a one- or two-digit integer.\"\n",
    "\n",
    "    # clear Radia\n",
    "    rad.UtiDelAll()\n",
    "\n",
    "    iron_mat = rad.MatSatIsoFrm([2000, 2], [0.1, 2], [0.1, 2])\n",
    "\n",
    "    # build magnet\n",
    "    magnet, δgap = build_multipole(\n",
    "        n_poles, thick, width, gap, height, chamfer, tip_coil_sep,\n",
    "        iron_mat, curr_density, αl, βl,\n",
    "        r_min = r_min, clearance = clearance,\n",
    "        poletip_frac = poletip_frac, yoketip_frac = yoketip_frac,\n",
    "        chamfer_ang = chamfer_ang, skew = skew, n_curve = n_curve,\n",
    "        nx = nx, ny = ny, nzlt = nzlt, nzut = nzut, nat = nat,\n",
    "        nycb = nycb, nac = nac)\n",
    "    # and solve for the magnetization\n",
    "    res = rad.Solve(magnet, prec, max_iter)\n",
    "    assert res[3] != max_iter, \"Unstable or incomplete relaxation.\"\n",
    "\n",
    "    # compute multipole coefficients, and normalize if asked\n",
    "    c_m = mpoles_from_disc(magnet, max_m, n_disc, r_gfr)\n",
    "    if normalize is not None:\n",
    "        t = normalize[0]\n",
    "        m = int(normalize[1:])\n",
    "        if t == 'b':\n",
    "            c_m /= c_m[m - 1].real\n",
    "        else:\n",
    "            c_m /= c_m[m - 1].imag\n",
    "\n",
    "    # return residuals\n",
    "    ε_c = c_m - c_t\n",
    "    ε_g = penalty(δgap, gwd)\n",
    "    return np.concatenate((ε_c.real, ε_c.imag, [ε_g]))"
   ]
  },
  {
   "cell_type": "code",
   "execution_count": null,
   "metadata": {},
   "outputs": [],
   "source": [
    "# magnet to optimize\n",
    "# :: required arguments: geometry\n",
    "n_poles      =  4   # magnet pole tips (even integer)\n",
    "thick        = 60.  # length of iron yoke along particle trajectory / mm\n",
    "width        = 30.  # width of pole tip / mm\n",
    "gap          = 40.  # distance between opposing pole tips / mm\n",
    "height       = 50.  # height of pole tip / mm\n",
    "chamfer      =  8.  # size of chamfer on pole tip ends / mm\n",
    "tip_coil_sep = 10.  # setback from coil edge to pole tip / mm\n",
    "# :: required arguments: material and current density\n",
    "iron_mat     = rad.MatSatIsoFrm([2000, 2], [0.1, 2], [0.1, 2])\n",
    "curr_density = -3.  # current density / (A / mm^2)\n",
    "# :: optional arguments: geometry\n",
    "r_min        = 2.0  # minimum coil radius / mm\n",
    "clearance    = 2.0  # clearance between coil corner and sector diagonal / mm\n",
    "poletip_frac = 0.5  # lower fraction of pole tip (w/ finer segmentation??)\n",
    "yoketip_frac = 0.6  # ratio of yoke height (or depth) to pole tip width\n",
    "chamfer_ang  = 45.  # angle of chamfer normal w/rt pole tip axis / deg\n",
    "skew         = False  #  False | True | (angle from ‘normal’ / deg)\n",
    "# :: optional arguments: segmentation parameters\n",
    "n_curve = 6  # intervals for discretizing (half) the pole face\n",
    "nx      = 2  # segments along X axis, within distance thick / 2\n",
    "ny      = 2  # segments along Y axis, within distance width / 2\n",
    "nzlt    = 3  # segments along Z axis, lower portion of pole tip\n",
    "nzut    = 3  # segments along Z axis, upper portion of pole tip\n",
    "nat     = 2  # azimuthal segments at top of pole tip\n",
    "nycb    = 3  # segments along Y axis, along the yoke cross bar\n",
    "nac     = 2  # azimuthal segments at corner of yoke\n",
    "\n",
    "# control parameters for the magnet solve\n",
    "prec     = 10.e-6  # precision goal\n",
    "max_iter = 10000   # maximum allowed iterations\n",
    "\n",
    "# other control parameters\n",
    "r_gfr  =  13. # radius of desired GFR (good-field region)\n",
    "max_m  =   6  # go up to 2m-pole strengths\n",
    "n_disc =  72  # number of points for extracting 2m-pole strengths\n",
    "\n",
    "# target multipole coefficients\n",
    "c_t = np.full(max_m, complex(0.,0.))\n",
    "c_t[1] = complex(1.,0.)\n",
    "\n",
    "# acceptable variations\n",
    "gwd = 2. # δgap / mm\n",
    "\n",
    "# parameters to optimize\n",
    "# :: two 1D arrays of perturbation coefficients\n",
    "αl = np.zeros(max_m)\n",
    "βl = np.zeros(max_m)\n",
    "# αl = [ -0.1, 0.05, -0.03, 0.025, -0.02 ]\n",
    "# βl = [  0.1, 0.05,  0.03, 0.025,  0.02 ]\n",
    "\n",
    "params = np.concatenate((αl, βl))\n",
    "gfr_residuals(params)"
   ]
  },
  {
   "cell_type": "code",
   "execution_count": null,
   "metadata": {},
   "outputs": [],
   "source": [
    "αl = [ -0.1, 0.05, -0.03, 0.025, -0.02 ]\n",
    "βl = [  0.1, 0.05,  0.03, 0.025,  0.02 ]\n",
    "params = np.concatenate((αl, βl))\n",
    "\n",
    "dfo_soln = dfols.solve(gfr_residuals, params)"
   ]
  },
  {
   "cell_type": "code",
   "execution_count": null,
   "metadata": {},
   "outputs": [],
   "source": [
    "dfo_soln.*?"
   ]
  },
  {
   "cell_type": "code",
   "execution_count": null,
   "metadata": {},
   "outputs": [],
   "source": [
    "dfo_soln.x"
   ]
  },
  {
   "cell_type": "code",
   "execution_count": null,
   "metadata": {},
   "outputs": [],
   "source": [
    "dfo_soln.resid"
   ]
  },
  {
   "cell_type": "raw",
   "metadata": {},
   "source": [
    "RESET = \"\\x1b[0m\"\n",
    "print(\"To reset attributes: \\\\x1b[0m\\n\")\n",
    "for i in range(0, 8):\n",
    "    print(\"\\x1b[1;3{0}m\\\\x1b[1;3{0}m{1} \\x1b[0;3{0}m\\\\x1b[0;3{0}m{1} \"\n",
    "          \"\\x1b[1;4{0};3{0}m\\\\x1b[1;3{0};4{0}m{1}\".format(i, RESET))"
   ]
  },
  {
   "cell_type": "code",
   "execution_count": null,
   "metadata": {},
   "outputs": [],
   "source": []
  }
 ],
 "metadata": {
  "kernelspec": {
   "display_name": "Python 3",
   "language": "python",
   "name": "py3"
  },
  "language_info": {
   "codemirror_mode": {
    "name": "ipython",
    "version": 3
   },
   "file_extension": ".py",
   "mimetype": "text/x-python",
   "name": "python",
   "nbconvert_exporter": "python",
   "pygments_lexer": "ipython3",
   "version": "3.9.15"
  }
 },
 "nbformat": 4,
 "nbformat_minor": 4
}
