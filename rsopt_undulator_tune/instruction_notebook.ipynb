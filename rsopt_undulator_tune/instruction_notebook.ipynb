{
 "cells": [
  {
   "cell_type": "markdown",
   "id": "844e9621",
   "metadata": {},
   "source": [
    "# Undulator optimization through rsopt \n",
    "\n",
    "This directory includes files to run an optimization procedure on the TESSA undulator. This optimization runs through the rsopt package and shows an alternative to the matrix inversion procedure used in example_undulator_tune.ipynb.\n",
    "\n",
    "\n",
    "If you want to run the example you can just enter in a terminal (assuming rsopt is installed):\n",
    "```rsopt optimize configuration start_config.yml```\n",
    "\n",
    "- The first portion of this notebook includes code that was used to make start_config.yml. Since there are over 100 parameters it easier to automatically generate the configuration file in this case.\n",
    "\n",
    "- The second half of this notebook shows the analysis of the optimizer result"
   ]
  },
  {
   "cell_type": "markdown",
   "id": "d0bdf6bb",
   "metadata": {},
   "source": [
    "### Make dictionary of offset parameters\n",
    "Optimization parameters are passed to by rsopt to the evaluation function as keyword arguments.\n",
    "Here we set names for the parameters and their starting values and minimum/maximum."
   ]
  },
  {
   "cell_type": "code",
   "execution_count": 1,
   "id": "711a74c1",
   "metadata": {},
   "outputs": [],
   "source": [
    "min_os_ee = -0.2\n",
    "max_os_ee =  0.2\n",
    "size = 9\n",
    "os_ee_starting_point = {'{}_{}'.format(name, i): [0.0, min_os_ee, max_os_ee] for name in ['corree_-x', 'corree_+x', 'corree_-z', 'corree_+z'] for i in range(size)}\n",
    "\n",
    "min_os = -0.2\n",
    "max_os =  0.2\n",
    "size = 32\n",
    "os_starting_point = {'{}_{}'.format(name, i): [0.0, min_os, max_os] for name in ['corr_-x', 'corr_+x', 'corr_-z', 'corr_+z'] for i in range(size)}"
   ]
  },
  {
   "cell_type": "code",
   "execution_count": 2,
   "id": "54646259",
   "metadata": {},
   "outputs": [],
   "source": [
    "starting_point = {**os_ee_starting_point, **os_starting_point}"
   ]
  },
  {
   "cell_type": "markdown",
   "id": "2e7ec4a3",
   "metadata": {},
   "source": [
    "### Make Configuration File"
   ]
  },
  {
   "cell_type": "code",
   "execution_count": 3,
   "id": "919d5739",
   "metadata": {},
   "outputs": [],
   "source": [
    "# Define optimization method and run setup\n",
    "method = \"\"\"        setup:\n",
    "            execution_type: serial\n",
    "            input_file: tessa.py\n",
    "            function: eval_f\n",
    "options:\n",
    "    software: dfols\n",
    "    method: dfols\n",
    "    record_interval: 5\n",
    "    components: 43\n",
    "    software_options: {'do_logging': False,\n",
    "                     'rhoend': 1e-5,\n",
    "                     'user_params': {'model.abs_tol': 1e-10,\n",
    "                                     'model.rel_tol': 1e-4\n",
    "                                    }\n",
    "                     }\n",
    "    exit_criteria:\n",
    "        sim_max: 300\"\"\""
   ]
  },
  {
   "cell_type": "code",
   "execution_count": 4,
   "id": "453f29c2",
   "metadata": {},
   "outputs": [],
   "source": [
    "# Write optimization parameters to file with setup and options\n",
    "header = \"\"\"codes:\n",
    "    - python:\n",
    "        parameters:\n",
    "\"\"\"\n",
    "pars = \"\"\"            {name}:\n",
    "                min: {minv}\n",
    "                max: {maxv}\n",
    "                start: {start}\n",
    "\"\"\"\n",
    "config_str = header\n",
    "for key, val in starting_point.items():\n",
    "    config_str += pars.format(name=key, minv=val[1], maxv=val[2], start=val[0])\n",
    "with open('start_config.yml', 'w') as ff:\n",
    "    config_str += method\n",
    "    ff.write(config_str)"
   ]
  },
  {
   "cell_type": "markdown",
   "id": "698808a5",
   "metadata": {},
   "source": [
    "# Result Analysis"
   ]
  },
  {
   "cell_type": "code",
   "execution_count": 5,
   "id": "99ff2144",
   "metadata": {},
   "outputs": [],
   "source": [
    "import matplotlib.pyplot as plt\n",
    "import numpy as np"
   ]
  },
  {
   "cell_type": "code",
   "execution_count": 44,
   "id": "84185c87",
   "metadata": {},
   "outputs": [],
   "source": [
    "# Load log of the optimization run - an example of the results is included \n",
    "#  or you can enter a new filename if you ran rsopt\n",
    "\n",
    "history_file_name = 'example_results/libE_history_for_run_starting_2021-05-20_18:03:19.947_after_sim_300.npy'\n",
    "H = np.load(history_file_name)"
   ]
  },
  {
   "cell_type": "code",
   "execution_count": 48,
   "id": "ea4ee9fc",
   "metadata": {},
   "outputs": [
    {
     "data": {
      "image/png": "[encoded data removed]",
      "text/plain": [
       "<Figure size 432x288 with 1 Axes>"
      ]
     },
     "metadata": {
      "needs_background": "light"
     },
     "output_type": "display_data"
    }
   ],
   "source": [
    "# Plot history of the objective function through the optimization\n",
    "plt.figure()\n",
    "plt.scatter(H['sim_id'], H['f'])\n",
    "plt.xlabel('Eval Step')\n",
    "plt.ylabel('Objective F val')\n",
    "plt.show()"
   ]
  },
  {
   "cell_type": "markdown",
   "id": "92c1c470",
   "metadata": {},
   "source": [
    "# Show the Result from the Optimization"
   ]
  },
  {
   "cell_type": "code",
   "execution_count": 57,
   "id": "1ab25364",
   "metadata": {},
   "outputs": [
    {
     "data": {
      "text/plain": [
       "297"
      ]
     },
     "execution_count": 57,
     "metadata": {},
     "output_type": "execute_result"
    }
   ],
   "source": [
    "best_index = np.argmin(H['f'])\n",
    "best_index"
   ]
  },
  {
   "cell_type": "code",
   "execution_count": 51,
   "id": "0e32bd75",
   "metadata": {},
   "outputs": [],
   "source": [
    "xval = H['x'][best_index]"
   ]
  },
  {
   "cell_type": "markdown",
   "id": "56a80cd7",
   "metadata": {},
   "source": [
    "### Convert from parameter array back to the dictionaries needed to make the undulator"
   ]
  },
  {
   "cell_type": "code",
   "execution_count": 52,
   "id": "185e26ee",
   "metadata": {},
   "outputs": [],
   "source": [
    "# Process inputs\n",
    "corr_ee_size = 9\n",
    "corr_size = 32\n",
    "corr_ee = {'-x': [], '+x': [], '-z': [], '+z': []}\n",
    "corr = {'-x': [], '+x': [], '-z': [], '+z': []}\n",
    "\n",
    "index = 0\n",
    "for key, val in corr_ee.items():\n",
    "    for i in range(corr_ee_size):\n",
    "        corr_ee[key].append(xval[index + i])\n",
    "    index += corr_ee_size\n",
    "for key, val in corr.items():\n",
    "    for i in range(corr_size):\n",
    "        corr[key].append(xval[index + i])\n",
    "    index += corr_size\n"
   ]
  },
  {
   "cell_type": "code",
   "execution_count": 53,
   "id": "6cd3aa28",
   "metadata": {},
   "outputs": [],
   "source": [
    "for it in [corr, corr_ee]:\n",
    "    for key, val in it.items():\n",
    "        it[key] = np.array(val)"
   ]
  },
  {
   "cell_type": "markdown",
   "id": "97d464c8",
   "metadata": {},
   "source": [
    "### Make undulator and plot result"
   ]
  },
  {
   "cell_type": "code",
   "execution_count": 54,
   "id": "6f50cab8",
   "metadata": {},
   "outputs": [],
   "source": [
    "from tessa import local_make_und, calc_pole_kund, GAP_OS_ideal, GAP_OS_EE_ideal, UND_NUMPER"
   ]
  },
  {
   "cell_type": "code",
   "execution_count": 55,
   "id": "92c4f9db",
   "metadata": {},
   "outputs": [
    {
     "data": {
      "text/plain": [
       "0"
      ]
     },
     "execution_count": 55,
     "metadata": {},
     "output_type": "execute_result"
    }
   ],
   "source": [
    "und_ideal = local_make_und(0.0, 0.0, GAP_OS_ideal, GAP_OS_EE_ideal, loadmags=False, UND_NUMPER=UND_NUMPER)\n",
    "calc_pole_kund(und_ideal)\n",
    "local_und = local_make_und(0.0, 0.052359877, corr, corr_ee, rngseed=42, loadmags=False, UND_NUMPER=UND_NUMPER)\n",
    "calc_pole_kund(local_und)"
   ]
  },
  {
   "cell_type": "markdown",
   "id": "77270e75",
   "metadata": {},
   "source": [
    "### Load Data from Matrix Inversion Method"
   ]
  },
  {
   "cell_type": "code",
   "execution_count": 58,
   "id": "d5345d87",
   "metadata": {},
   "outputs": [],
   "source": [
    "pos_uncorr, uncorr_ku = np.load('example_results/uncorrected_ku.npy')\n",
    "pos_corr, corr_ku = np.load('example_results/corrected_ku.npy')"
   ]
  },
  {
   "cell_type": "code",
   "execution_count": 61,
   "id": "07fc6db8",
   "metadata": {},
   "outputs": [
    {
     "data": {
      "image/png": "[encoded data removed]",
      "text/plain": [
       "<Figure size 792x504 with 1 Axes>"
      ]
     },
     "metadata": {
      "needs_background": "light"
     },
     "output_type": "display_data"
    }
   ],
   "source": [
    "fig, ax = plt.subplots(figsize=(11,7))\n",
    "ls = dict(linewidth=2,linestyle='-',marker='o',ms=0, alpha=1)\n",
    "\n",
    "ls['color'] = 'dodgerblue'\n",
    "ax.step(pos_uncorr, uncorr_ku, **ls)\n",
    "#\n",
    "ls['color'] = 'orangered'\n",
    "ax.step(pos_corr, corr_ku, **ls)\n",
    "# \n",
    "ls['color'] = 'green'\n",
    "ax.step(und_ideal.polekund[:,3], local_und.polekund[:,2]-und_ideal.polekund[:,2], **ls)\n",
    "#\n",
    "\n",
    "\n",
    "ax.axis([-1,43, -0.2,0.2])\n",
    "\n",
    "fs = dict(fontsize=14)\n",
    "plt.xlabel('Magnet block number',**fs)\n",
    "plt.ylabel('(a.u.)', **fs)\n",
    "plt.title('Normalized Integrated Variation of $K_u$', fontsize=16)\n",
    "legloc = 'best'\n",
    "plt.legend(['$3 \\\\degree$ angular error ', 'Corrected - Matrix Inversion', 'Corrected - Optimizer'], fontsize=15,loc=legloc)\n",
    "\n",
    "ax.tick_params(labelcolor='k', labelsize=14, width=1)\n",
    "\n",
    "ax.grid(False)\n",
    "plt.show()"
   ]
  },
  {
   "cell_type": "code",
   "execution_count": null,
   "id": "2223d0e2",
   "metadata": {},
   "outputs": [],
   "source": []
  }
 ],
 "metadata": {
  "kernelspec": {
   "display_name": "Python 3",
   "language": "python",
   "name": "py3"
  },
  "language_info": {
   "codemirror_mode": {
    "name": "ipython",
    "version": 3
   },
   "file_extension": ".py",
   "mimetype": "text/x-python",
   "name": "python",
   "nbconvert_exporter": "python",
   "pygments_lexer": "ipython3",
   "version": "3.7.2"
  }
 },
 "nbformat": 4,
 "nbformat_minor": 5
}
