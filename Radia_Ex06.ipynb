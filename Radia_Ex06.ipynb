{
 "cells": [
  {
   "cell_type": "markdown",
   "metadata": {},
   "source": [
    "# RADIA Example 6: Simple Quadrupole Magnet"
   ]
  },
  {
   "cell_type": "markdown",
   "metadata": {},
   "source": [
    "This _Jupyter_ notebook devloped on the basis of the original\n",
    "[Radia Example&#160;6](\n",
    "  https://www.esrf.fr/Accelerators/Groups/InsertionDevices/Software/Radia/Documentation,\n",
    "  \"RADIA Example 6 at ESRF\")."
   ]
  },
  {
   "cell_type": "markdown",
   "metadata": {
    "tags": []
   },
   "source": [
    "### _Dan T. Abell, RadiaSoft LLC_"
   ]
  },
  {
   "cell_type": "markdown",
   "metadata": {},
   "source": [
    "$\\rule[2pt]{15mm}{0.33pt}\\ \\LaTeX\\ \\text{macros}\\ \\rule[2pt]{15mm}{0.33pt}$\n",
    "$$\n",
    "%% math text\n",
    "\\newcommand{\\mhsp}{\\mskip{1.5mu}}\n",
    "\\newcommand{\\hmhsp}{\\mskip{0.75mu}}\n",
    "\\newcommand{\\nmhsp}{\\mskip{-1.5mu}}\n",
    "\\newcommand{\\nhmhsp}{\\mskip{-0.75mu}}\n",
    "\\newcommand{\\ud}{\\mathop{}\\!\\mathrm{d}}% upright d for differential\n",
    "\\newcommand{\\ue}{\\mathrm{e}}% upright e for Euler number\n",
    "\\newcommand{\\ui}{\\mathrm{i}}% upright i for unit imaginary\n",
    "\\newcommand{\\uj}{\\mathrm{j}}% upright j for unit imaginary\n",
    "\\newcommand{\\uk}{\\mathrm{k}}% upright k for unit imaginary\n",
    "\\newcommand{\\sl}{\\,/\\,}\n",
    "%%\n",
    "%% derivatives\n",
    "\\newcommand{\\dd}[3][]{\\ud^{#1}{#2}/\\nmhsp\\ud{#3}^{#1}}\n",
    "\\newcommand{\\dt}[2][]{\\ud^{#1}{#2}/\\nmhsp\\ud{t}^{#1}}\n",
    "\\newcommand{\\Dd}[3][]{\\frac{\\ud^{#1}{#2}}{\\ud{#3}^{#1}}}\n",
    "\\newcommand{\\Dt}[2][]{\\frac{\\ud^{#1}{#2}}{\\ud{t}^{#1}}}\n",
    "\\newcommand{\\ptdd}[3][]{\\partial^{#1}{#2}/\\partial{#3}^{#1}}\n",
    "\\newcommand{\\ptDd}[3][]{\\frac{\\partial^{#1}{#2}}{\\partial{#3}^{#1}}}\n",
    "%%\n",
    "%% vector operators\n",
    "\\DeclareMathOperator{\\grad}{\\nabla\\nmhsp\\nmhsp}\n",
    "\\DeclareMathOperator{\\divrg}{{\\nabla\\cdot}\\nmhsp\\nhmhsp}\n",
    "\\DeclareMathOperator{\\curl}{{\\nabla\\times}\\nmhsp\\nhmhsp}\n",
    "%%\n",
    "%% vectors\n",
    "%% -- using \\boldsymbol\n",
    "% \\newcommand{\\uV}[1]{\\hat{\\boldsymbol{#1}}}% unit vector\n",
    "% \\newcommand{\\V}[1]{\\boldsymbol{#1}}% vector\n",
    "% \\newcommand{\\uVg}[1]{\\hat{\\boldsymbol{#1}}}% unit vector\n",
    "% \\newcommand{\\Vg}[1]{\\boldsymbol{#1}}% vector\n",
    "%% -- using \\vec\n",
    "\\newcommand{\\uV}[1]{\\hat{{#1}}}% unit vector\n",
    "\\newcommand{\\V}[1]{\\vec{#1}}% vector\n",
    "\\newcommand{\\uVg}[1]{\\hat{{#1}}}% unit vector\n",
    "\\newcommand{\\Vg}[1]{\\vec{#1}}% vector\n",
    "$$\n",
    "$\\rule[2pt]{58.3mm}{0.33pt}$"
   ]
  },
  {
   "cell_type": "markdown",
   "metadata": {
    "tags": []
   },
   "source": [
    "---\n",
    "## Introduction & Theory"
   ]
  },
  {
   "cell_type": "markdown",
   "metadata": {},
   "source": [
    "In this example, we model a simple iron-dominated quadrupole magnet.\n",
    "The pole-tips have hyperbolic faces with a chamfer at the ends.\n",
    "\n",
    "Field computations in the case of iron-dominated geometries present specific\n",
    "difficulties that usually make them less accurate than those in the case of\n",
    "structures dominated by coils or permanent magnets. Nevertheless, Radia\n",
    "includes special methods that enable one to obtain reasonable precision\n",
    "with a reasonable amount of computational effort—cpu time and memory usage.\n",
    "\n",
    "Because this example bears some similarities to that of Example&#160;5,\n",
    "all the remarks made there also apply here. We recommend that you at least\n",
    "review the introduction of that example before playing with this one.\n",
    "But, as a brief reminder for those in a hurry, the following recommendations\n",
    "will help you achieve an acceptable level of precision within a reasonable\n",
    "time frame:\n",
    "\n",
    "* Segment the corners of iron circuits as parallel or as perpendicular\n",
    "as possible to lines of magnetic flux. For right-angled corners, one can\n",
    "do this using the circular or ellipsoidal mode of segmentation (see below). \n",
    "Following this recommendation will have a significant impact on your\n",
    "simulations of iron-dominated electromagnets.\n",
    "\n",
    "    In the example shown here, we make use of circular segmentation twice\n",
    "(with the other two corners addressed by symmetry). See the function\n",
    "`create_quadrupole(..)` in the section below\n",
    "entitled **_Define a general function to build a quadrupole magnet_**,\n",
    "and look for the lines containing\n",
    "\n",
    "```\n",
    "rad.ObjDivMag(g3, [nr3, np3, nx], 'cyl', cy)\n",
    "```\n",
    "\n",
    "    and\n",
    "    \n",
    "```\n",
    "rad.ObjDivMag(g5, [nr5, np5, nx], 'cyl', cy)\n",
    "```\n",
    "\n",
    "* Use a finer segmentation for the iron regions (particularly the pole\n",
    "pieces) closest to the region of interest. \n",
    "\n",
    "* Start with a coarse segmentation and gradually make it finer until\n",
    "the computed field values are stable.\n",
    "Be aware that both memory usage and cpu time tend to increase as the\n",
    "square of the number of elements (segments) in the iron.\n",
    "\n",
    "* To the greatest extent possible, take advantage of any symmetries\n",
    "present in your system. Doing so saves both memory usage and CPU time.\n",
    "\n",
    "For an explanation of all Radia functions, see the\n",
    "[Radia Reference Guide](\n",
    "  https://www.esrf.eu/Accelerators/Groups/InsertionDevices/Software/Radia/Documentation/ReferenceGuide/Index\n",
    "  \"RADIA Reference Guide at ESRF\")."
   ]
  },
  {
   "cell_type": "markdown",
   "metadata": {
    "tags": []
   },
   "source": [
    "---\n",
    "## Preamble"
   ]
  },
  {
   "cell_type": "markdown",
   "metadata": {
    "tags": []
   },
   "source": [
    "### Required imports"
   ]
  },
  {
   "cell_type": "code",
   "execution_count": null,
   "metadata": {},
   "outputs": [],
   "source": [
    "%matplotlib inline\n",
    "import matplotlib.pyplot as plt\n",
    "import scipy.constants as sc\n",
    "import numpy # as np\n",
    "import time as tm\n",
    "from math import *\n",
    "import os"
   ]
  },
  {
   "cell_type": "code",
   "execution_count": null,
   "metadata": {},
   "outputs": [],
   "source": [
    "import radia as rad\n",
    "from uti_plot import *\n",
    "import ipywidgets\n",
    "from jupyter_rs_radia import radia_viewer"
   ]
  },
  {
   "cell_type": "markdown",
   "metadata": {},
   "source": [
    "The following figure illustrates the simple quadrupole magnet\n",
    "we simulate in this example."
   ]
  },
  {
   "cell_type": "code",
   "execution_count": null,
   "metadata": {
    "tags": []
   },
   "outputs": [],
   "source": [
    "# import an illustration of this magnet\n",
    "from IPython.display import Image\n",
    "# Image(filename=('./IronQuadrupole.png'))"
   ]
  },
  {
   "cell_type": "markdown",
   "metadata": {},
   "source": [
    "### Notebook directory"
   ]
  },
  {
   "cell_type": "markdown",
   "metadata": {},
   "source": [
    "Where are we?"
   ]
  },
  {
   "cell_type": "code",
   "execution_count": null,
   "metadata": {},
   "outputs": [],
   "source": [
    "nb_dir = os.getcwd() + '/'\n",
    "nb_dir"
   ]
  },
  {
   "cell_type": "markdown",
   "metadata": {},
   "source": [
    "### Mathematical and physical constants"
   ]
  },
  {
   "cell_type": "markdown",
   "metadata": {},
   "source": [
    "Define some mathematical constants:"
   ]
  },
  {
   "cell_type": "code",
   "execution_count": null,
   "metadata": {},
   "outputs": [],
   "source": [
    "# pi\n",
    "# π = np.pi\n",
    "π = pi\n",
    "\n",
    "# golden ratio\n",
    "# gr = (1 + np.sqrt(5)) / 2\n",
    "gr = (1 + sqrt(5)) / 2\n",
    "\n",
    "# roots\n",
    "# rt2 = np.sqrt(2.)\n",
    "rt2 = sqrt(2.)\n",
    "\n",
    "# degree to radian, and radian to degree\n",
    "degree = π / 180.\n",
    "d2r = degree\n",
    "r2d = 1 / degree"
   ]
  },
  {
   "cell_type": "markdown",
   "metadata": {},
   "source": [
    "### Function definitions (utilities)"
   ]
  },
  {
   "cell_type": "code",
   "execution_count": null,
   "metadata": {},
   "outputs": [],
   "source": [
    "# harmonic analysis\n",
    "\n",
    "def harm(obj, y, z, ro, np):\n",
    "    '''\n",
    "    perform ...\n",
    "    arguments:\n",
    "        obj = \n",
    "        y   = \n",
    "        z   = \n",
    "        ro  = \n",
    "        np  = \n",
    "    return list [, , ]\n",
    "    '''\n",
    "    arHarm = [complex(0,0)] * np\n",
    "    d_tet = 2*pi/np\n",
    "    tet = 0\n",
    "    for i in range(np):\n",
    "        cosTet = cos(tet); sinTet = sin(tet)\n",
    "        re = rad.FldInt(obj, 'inf', 'ibz', [-1,y+ro*cosTet,z+ro*sinTet], [1,y+ro*cosTet,z+ro*sinTet])\n",
    "        im = rad.FldInt(obj, 'inf', 'iby', [-1,y+ro*cosTet,z+ro*sinTet], [1,y+ro*cosTet,z+ro*sinTet])\n",
    "        arHarm[i] = complex(re, im)\n",
    "        tet += d_tet\n",
    "    return [np, ro, arHarm]\n",
    "\n",
    "def multipole(w, q):\n",
    "    np = w[0]; ro = w[1]; arHarm = w[2]\n",
    "    s = 0\n",
    "    for p in range(np):\n",
    "        arg = -2*pi/np*q*p\n",
    "        s += arHarm[p]*complex(cos(arg), sin(arg))\n",
    "    return s/np/(ro**q)    "
   ]
  },
  {
   "cell_type": "markdown",
   "metadata": {
    "tags": []
   },
   "source": [
    "## _Define a general function to build a quadrupole focusing magnet_\n",
    "\n",
    "Here we define a function that creates the quadrupole focusing magnet\n",
    "of this example. The various arguments (detailed in the function’s\n",
    "docstring) specify the geometry, material properties, current, and \n",
    "segmentation of this model magnet."
   ]
  },
  {
   "cell_type": "code",
   "execution_count": null,
   "metadata": {},
   "outputs": [],
   "source": [
    "def create_quadrupole():\n",
    "    '''\n",
    "    create a simple quadrupole focusing electromagnet\n",
    "    arguments:\n",
    "        gap     = distance between ... / mm\n",
    "        thick   = thickness of iron pole tip (along particle trajectory) / mm\n",
    "        width   = width of ... / mm\n",
    "        height  = height of ... / mm\n",
    "        chamfer = size of chamfer on ends of iron pole tip / mm\n",
    "        np\n",
    "        Nn\n",
    "        Rmin\n",
    "        ...\n",
    "    return Radia representation of a simple quadrupole focusing magnet\n",
    "    '''\n",
    "\n",
    "    rap = 0.5\n",
    "    ct = [0, 0, 0]\n",
    "    z0 = gap / 2\n",
    "    y0 = width / 2\n",
    "    amax = hyp * asinh(y0 / z0)\n",
    "    dz = z0 * (cosh(amax) - 1)\n",
    "    aStep = amax / np\n",
    "    na = int(amax * (1 + 2 / np) / aStep) + 1\n",
    "    qq = [[z0 * sinh(ia * aStep / hyp), z0 * cosh(ia * aStep)] for ia in range(na)]\n",
    "    hh = qq[np][1] + height * rap - dz\n",
    "    qq[np + 1] = [qq[np][0], hh]\n",
    "    qq[np + 2] = [0, hh]\n",
    "    g1 = rad.ObjThckPgn(thick / 4, thick / 2, qq)   \n",
    "    rad.ObjDivMag(g1, n1)\n",
    "\n",
    "    # vertical segment on top of pole faces\n",
    "    g2 = rad.ObjRecMag([thick / 4, width / 4, gap / 2 + height * (1 / 2 + rap / 2)],\n",
    "                       [thick / 2, width / 2, height * (1 - rap)])\n",
    "    rad.ObjDivMag(g2, n2)\n",
    "\n",
    "    # corner\n",
    "    gg = rad.ObjCnt([g1, g2])\n",
    "    gp = rad.ObjCutMag(gg, [thick / 2 - chamfer - gap / 2, 0, 0], [1, 0, -1])[0]\n",
    "    g3 = rad.ObjRecMag([thick / 4, width / 4, gap / 2 + height + depth / 2],\n",
    "                       [thick / 2, width / 2, depth])\n",
    "    cy = [[[0, width / 2, gap / 2 + height], [1, 0, 0]], [0, 0, gap / 2 + height], 2 * depth / width]\n",
    "    rad.ObjDivMag(g3, [nr3, np3, nx], 'cyl', cy)\n",
    "\n",
    "    # horizontal segment between the corners\n",
    "    tan_n = tan(2 * pi / 2 / Nn)\n",
    "    length = tan_n * (height + gap / 2) - width / 2\n",
    "    g4 = rad.ObjRecMag([thick / 4, width / 2 + length / 2, gap / 2 + height + depth / 2],\n",
    "                       [thick / 2,length, depth])\n",
    "    rad.ObjDivMag(g4, n4)\n",
    "\n",
    "    # other corner\n",
    "    posy = width / 2 + length\n",
    "    posz = posy / tan_n\n",
    "    g5 = rad.ObjThckPgn(thick / 4, thick / 2, [[posy, posz],[posy, posz + depth], [posy + depth * tan_n, posz + depth]])\n",
    "    cy = [[[0, posy, posz], [1, 0, 0]], [0, posy, posz + depth], 1]\n",
    "    rad.ObjDivMag(g5, [nr5, np5, nx], 'cyl', cy)\n",
    "\n",
    "    # generation of the coil\n",
    "    Rmax = Rmin - width/2 + gap/2 + offset - 2\n",
    "    coil1 = rad.ObjRaceTrk([0,0,gap/2+height/2+offset/2], [Rmin,Rmax], [thick,width-2*Rmin], height-offset, 3, CurDens)\n",
    "    rad.ObjDrwAtr(coil1, coilcolor)\n",
    "    hh = (height - offset)/2\n",
    "    coil2 = rad.ObjRaceTrk([0,0,gap/2+height-hh/2], [Rmax,Rmax+hh*0.8], [thick,width-2*Rmin], hh, 3, CurDens)\n",
    "    rad.ObjDrwAtr(coil2, coilcolor)\n",
    "\n",
    "    # make container, set colors, and define symmetries\n",
    "    g = rad.ObjCnt([gp, g3, g4, g5])\n",
    "    rad.ObjDrwAtr(g, ironcolor)\n",
    "    gd = rad.ObjCnt([g])\n",
    "    \n",
    "    rad.TrfZerPerp(gd, ct, [1, 0, 0])\n",
    "    rad.TrfZerPerp(gd, ct, [0, 1, 0])\n",
    "    \n",
    "    t = rad.ObjCnt([gd, coil1, coil2])\n",
    "    rad.TrfZerPara(t, ct, [0, cos(pi / Nn), sin(pi / Nn)])\n",
    "\n",
    "    rad.TrfMlt(t, rad.TrfRot(ct, [1, 0, 0], 4 * pi / Nn), int(round(Nn / 2)))\n",
    "    rad.MatApl(g, ironmat)\n",
    "    rad.TrfOrnt(t, rad.TrfRot([0, 0, 0],[1, 0, 0],pi / Nn))\n",
    "    \n",
    "    return t"
   ]
  },
  {
   "cell_type": "markdown",
   "metadata": {},
   "source": [
    "## _Create the quadrupole and solve for the fields_\n",
    "\n",
    "First set the various parameters that specify the properties—geometry,\n",
    "materials, and current—of our quadrupole. Then also decide how finely\n",
    "to segment the iron."
   ]
  },
  {
   "cell_type": "code",
   "execution_count": null,
   "metadata": {},
   "outputs": [],
   "source": [
    "# general parameters for quadrupole geometry\n",
    "np = 4\n",
    "hyp = 1      # must be >0.2 !\n",
    "gap = 40     # magnetic gap / mm\n",
    "width = 30   # pole width / mm\n",
    "height = 50  # height of iron yoke / mm\n",
    "thick = 60   # length of the quad / mm\n",
    "chamfer = 8  # size of chamfer\n",
    "\n",
    "Nn = 4\n",
    "ironcolor = [0.0, 1.0, 1.0]\n",
    "coilcolor = [1.0, 0.0, 0.0]\n",
    "depth = 1.2 * width / 2\n",
    "\n",
    "#Coils\n",
    "CurDens = -3 # current density / (A / mm^2)\n",
    "Rmin = 2\n",
    "offset = 10\n",
    "\n",
    "#Segmentation Params\n",
    "nx = 2\n",
    "ny = 2\n",
    "n1 = [nx,ny,3]\n",
    "n2 = [nx,ny,3]\n",
    "np3 = 2\n",
    "nr3 = ny\n",
    "n4 = [nx,3,ny]\n",
    "np5 = ceil(np3/2); print()\n",
    "nr5 = ny"
   ]
  },
  {
   "cell_type": "markdown",
   "metadata": {},
   "source": [
    "Now create and display this quadrupole magnet:"
   ]
  },
  {
   "cell_type": "code",
   "execution_count": null,
   "metadata": {},
   "outputs": [],
   "source": [
    "rad.UtiDelAll()\n",
    "ironmat = rad.MatSatIsoFrm([2000,2],[0.1,2],[0.1,2])\n",
    "t0 = tm.time()\n",
    "quad = create_quadrupole()\n",
    "t1 = tm.time()\n",
    "size = rad.ObjDegFre(quad)\n",
    "\n",
    "print('Built in time', round((t1 - t0) * 1e3, 3),'ms')\n",
    "print('Interaction matrix:', size, 'x', size, '.equiv.', (4 * size * size / 1e6), 'MBytes')\n",
    "\n",
    "# set up the radia viewer and display the magnet\n",
    "rv = radia_viewer.RadiaViewer()\n",
    "rv.add_geometry('Quadrupole Magnet', quad)\n",
    "rv.display()"
   ]
  },
  {
   "cell_type": "code",
   "execution_count": null,
   "metadata": {},
   "outputs": [],
   "source": [
    "# solve for the magnetization\n",
    "prec     = 10.e-6 # precision for this computation\n",
    "max_iter = 10000  # maximum allowed iterations\n",
    "t0  = tm.time()\n",
    "res = rad.Solve(quad, prec, max_iter)\n",
    "t1  = tm.time()\n",
    "\n",
    "print(\"Solved for magnetization in time {0:6f} s\".format(t1 - t0))\n",
    "print(\"Relaxation results\")\n",
    "print(\"  number of iterations: {0:5d}\".format(int(res[3])))\n",
    "if(res[3] == max_iter):\n",
    "    print(\"    >> unstable or incomplete relaxation\")\n",
    "print(\"  average stability of magnetization at last iteration: {0:.4e} T\".format(res[0]))\n",
    "print(\"  maximum absolute magnetization at last iteration: {0:.5f} T\".format(res[1]))\n",
    "print(\"  maximum H vector at last iteration: {0:.5f} T\".format(res[2]))\n",
    "# print(\"Pole-tip magnetic field: {0:.8f} T\".format(rad.Fld(quad, 'bz', [x,y,z])))b"
   ]
  },
  {
   "cell_type": "markdown",
   "metadata": {},
   "source": [
    "The quadrupole gradient ... $B_z$ field at the origin, $(0, 0, 0)$, is the vertical\n",
    "field in the middle of the gap."
   ]
  },
  {
   "cell_type": "code",
   "execution_count": null,
   "metadata": {},
   "outputs": [],
   "source": [
    "Bz  = rad.Fld(quad, 'Bz', [0, 1, 0]) * 1e3\n",
    "Bz1 = rad.Fld(quad, 'Bz', [0,10, 0]) * 1e3 / 10\n",
    "Iz  = rad.FldInt(quad, 'inf', 'ibz', [-1, 1, 0], [1, 1, 0])\n",
    "Iz1 = rad.FldInt(quad, 'inf', 'ibz', [-1,10, 0], [1,10, 0]) / 10\n",
    "\n",
    "print(' quadrupole gradient:', round(Bz, 4), 'T/m')\n",
    "print('  int.quad. at  1 mm:', round(Iz, 5), 'T')\n",
    "print('δ int.quad. at 10 mm:', round((Iz1 / Iz - 1), 6) * 100, '%') # rel. var. in field integral"
   ]
  },
  {
   "cell_type": "markdown",
   "metadata": {},
   "source": [
    "## _Plots of the magnetic field and field integrals_\n",
    "\n",
    "Here we show plots of magnetic field in the gap and corresponding\n",
    "field integrals. The field values are obtained by calling `Fld` on\n",
    "a list of points. One may also use `FldLst`.\n",
    "\n",
    "The first graph here displays ..."
   ]
  },
  {
   "cell_type": "code",
   "execution_count": null,
   "metadata": {},
   "outputs": [],
   "source": [
    "# plots of magnetic field\n",
    "z    = 0\n",
    "x1   = 0\n",
    "x2   = 30\n",
    "ymax = 40\n",
    "np   = 20\n",
    "\n",
    "BzVy1 = rad.FldLst(quad, 'bz', [x1, 0, z], [x1, ymax, z], np, 'arg', 0)\n",
    "BzVy2 = rad.FldLst(quad, 'bz', [x2, 0, z], [x2, ymax, z], np, 'arg', 0)\n",
    "\n",
    "uti_plot1d_m([BzVy1, BzVy2],\n",
    "             labels = ['Y', 'Vertical Magnetic Field', 'Vertical Magnetic Field vs. Horizontal Position'], units = ['mm', 'T'],\n",
    "             styles = ['-b.', '-r.'], legend = ['X = {} mm'.format(x1), 'X = {} mm'.format(x2)])\n",
    "\n",
    "xmax = 1.5 * thick\n",
    "y1 = width / 4\n",
    "y2 = width / 2\n",
    "\n",
    "BzVx1 = rad.FldLst(quad, 'bz', [-xmax, y1, 0], [xmax, y1, 0], 2 * np, 'arg', 0)\n",
    "BzVx2 = rad.FldLst(quad, 'bz', [-xmax, y2, 0], [xmax, y2, 0], 2 * np, 'arg', 0)\n",
    "\n",
    "uti_plot1d_m([BzVx1, BzVx2],\n",
    "             labels = ['X', 'Vertical Magnetic Field', 'Vertical Magnetic Field vs. Longitudinal Position'], units = ['mm', 'T'],\n",
    "             styles = ['-b.', '-r.'], legend = ['Y = {} mm'.format(y1), 'Y = {} mm'.format(y2)])\n",
    "\n",
    "# plots of magnetic field integrals\n",
    "z    = 0\n",
    "ymin = 0.001\n",
    "ymax = 10\n",
    "npy  = 20\n",
    "yStep = (ymax - ymin) / (npy - 1)\n",
    "IBz0 = rad.FldInt(quad, 'inf', 'ibz', [-1, 1, z], [1, 1, z])\n",
    "\n",
    "IBzVsY = [(rad.FldInt(quad, 'inf', 'ibz', [-1, ymin + iy * yStep, z], [1,ymin+iy*yStep,z]) /\n",
    "           ((ymin+iy*yStep)*IBz0) - 1) * 100 for iy in range(npy)]\n",
    "uti_plot1d(IBzVsY, [ymin, ymax, npy],\n",
    "           ['Y', 'dIz', 'Rel. Variation of Vertical Field Integral along X at Z = ' + repr(z) + ' mm'], ['mm', '%'])\n",
    "\n",
    "# harmonic analysis of the field integrals\n",
    "nharm = 10; radius = 2; y = 0; z = 0;\n",
    "w = harm(quad, y, z, radius, nharm);\n",
    "\n",
    "mm = [multipole(w, i) for i in range(nharm)];\n",
    "round_mm = [complex(round(mm[i].real, 9), round(mm[i].imag, 9)) for i in range(nharm)];\n",
    "print(round_mm)\n",
    "\n",
    "uti_plot_show()"
   ]
  },
  {
   "cell_type": "markdown",
   "metadata": {},
   "source": [
    "Save the above data for testing:"
   ]
  },
  {
   "cell_type": "code",
   "execution_count": null,
   "metadata": {},
   "outputs": [],
   "source": [
    "numpy.savetxt(nb_dir + \"BzVy1.txt\", BzVy1)\n",
    "numpy.savetxt(nb_dir + \"BzVy2.txt\", BzVy2)\n",
    "numpy.savetxt(nb_dir + \"BzVx1.txt\", BzVx1)\n",
    "numpy.savetxt(nb_dir + \"BzVx2.txt\", BzVx2)"
   ]
  },
  {
   "cell_type": "markdown",
   "metadata": {
    "tags": []
   },
   "source": [
    "## _Define a general function to build a multipole magnet_\n",
    "\n",
    "Here we define a function that creates the multipole magnet. The various\n",
    "arguments (detailed in the function’s docstring) specify the geometry,\n",
    "material properties, current, and segmentation of this model magnet."
   ]
  },
  {
   "cell_type": "code",
   "execution_count": null,
   "metadata": {},
   "outputs": [],
   "source": [
    "def create_multipole(n_poles, thick, width, gap, height, chamfer, tip_coil_sep, curr_density,\n",
    "                     n_curve = 6, r_min = 2., clearance = 2., poletip_frac = 0.5, yoketip_frac = 0.6):\n",
    "    '''\n",
    "    Return a Radia representation of a simple multipole electromagnet.\n",
    "\n",
    "    Arguments:\n",
    "        npoles       = number of magnet pole tips (even integer)\n",
    "        thick        = length of iron pole tip (along particle trajectory) / mm\n",
    "        width        = width of pole tip / mm\n",
    "        gap          = distance between opposing pole tips / mm\n",
    "        height       = height of pole tip  / mm\n",
    "        chamfer      = size of chamfer on pole tip ends / mm\n",
    "        tip_coil_sep = distance by which coil edge is set back from the pole tip / mm\n",
    "        curr_density = current density / (A / mm^2)\n",
    "        n_curve      = number of intervals for discretizing (half) the pole face\n",
    "        r_min        = minimum coil radius / mm\n",
    "        clearance    = clearance between coil corner and diagonal between sectors / mm\n",
    "        poletip_frac = lower fraction of pole tip, possibly subject to finer segmentation\n",
    "        yoketip_frac = ratio of yoke height (or depth) to pole tip width\n",
    "\n",
    "    This function constructs one half of a vertical sector of a multipole magnet.\n",
    "    It then applies appropriate symmetries to construct and orient the full magnet.\n",
    "    '''\n",
    "    # sanity checks on user input\n",
    "    # :: even number of magnetic poles?\n",
    "    assert n_poles % 2 == 0, \"Argument n_poles must equal an even integer.\"\n",
    "    # :: pole tips do not intersect? ==> automatic!! <==\n",
    "    # :: lower pole tip includes all of pole face?\n",
    "    # :: coil_1 does not cross sector diagonal\n",
    "    # :: coil_2 does not cross sector diagonal\n",
    "\n",
    "    # define a few useful vectors\n",
    "    ctr = [0, 0, 0]\n",
    "    x_hat = [1, 0, 0]\n",
    "    y_hat = [0, 1, 0]\n",
    "    z_hat = [0, 0, 1]\n",
    "\n",
    "    # discretize hyperbola that defines the pole tip\n",
    "    # :: z^2 - (hyp * y)^2 = z0^2, w/ asymptotes z = ±hyp * y\n",
    "    tan_np = tan(pi / n_poles)\n",
    "    hyp = 1 / tan_np  # slope of hyperbola's asymptote\n",
    "    z0 = gap / 2\n",
    "    ym = width / 2\n",
    "    a_max =  asinh(hyp * ym / z0)\n",
    "    da = a_max / n_curve\n",
    "    na = n_curve + 3  # go two points beyond so we don't have to extend the array\n",
    "    qq = [ [(z0 / hyp) * sinh(ia * da), z0 * cosh(ia * da)] for ia in range(na) ]\n",
    "    # and\n",
    "    # modify last two points so as to outline lower portion of the (half) pole tip\n",
    "    ht_lower = poletip_frac * height\n",
    "    qq[n_curve + 1] = [ym, z0 + ht_lower]\n",
    "    qq[n_curve + 2] = [ 0, z0 + ht_lower]\n",
    "\n",
    "    # create and segment the lower portion of the (half) pole tip\n",
    "    g1 = rad.ObjThckPgn(thick / 4, thick / 2, qq)\n",
    "    rad.ObjDivMag(g1, n1)\n",
    "\n",
    "    # create and segment the upper portion of the (half) pole tip\n",
    "    ht_upper = height - ht_lower\n",
    "    g2 = rad.ObjRecMag([thick / 4, width / 4, z0 + height - ht_upper / 2],\n",
    "                       [thick / 2, width / 2, ht_upper])\n",
    "    rad.ObjDivMag(g2, n2)\n",
    "\n",
    "    # combine the lower and upper portions of the (half) pole tip\n",
    "    gg = rad.ObjCnt([g1, g2])\n",
    "    # and\n",
    "    # cut chamfer, then retain desired metal\n",
    "    gp = rad.ObjCutMag(gg, [thick / 2 - chamfer, 0, z0], [1, 0, -1])[0]\n",
    "\n",
    "    # create and segment \"corner\" above (half) pole tip\n",
    "    depth = yoketip_frac * width\n",
    "    g3 = rad.ObjRecMag([thick / 4, width / 4, z0 + height + depth / 2],\n",
    "                       [thick / 2, width / 2, depth])\n",
    "    cy = [[[0, width / 2, gap / 2 + height], [1, 0, 0]], [0, 0, gap / 2 + height], 2 * depth / width]\n",
    "    rad.ObjDivMag(g3, [nr3, np3, nx], 'cyl', cy)\n",
    "\n",
    "    # create and segment horizontal yoke segment to corner\n",
    "    length = tan_np * (gap / 2 + height) - width / 2\n",
    "    g4 = rad.ObjRecMag([thick / 4, width / 2 + length / 2, gap / 2 + height + depth / 2],\n",
    "                       [thick / 2,length, depth])\n",
    "    rad.ObjDivMag(g4, n4)\n",
    "\n",
    "    # outline the corner\n",
    "    yc = width / 2 + length\n",
    "    zc = gap / 2 + height\n",
    "    q_corner = [[yc, zc], [yc, zc + depth], [yc + depth * tan_np, zc + depth]]\n",
    "    # and\n",
    "    # create and segment yoke corner\n",
    "    g5 = rad.ObjThckPgn(thick / 4, thick / 2, q_corner)\n",
    "    cy = [[[0, yc, zc], [1, 0, 0]], [0, yc, zc + depth], 1]\n",
    "    rad.ObjDivMag(g5, [nr5, np5, nx], 'cyl', cy)\n",
    "\n",
    "    # create container for all the metal\n",
    "    g = rad.ObjCnt([gp, g3, g4, g5])\n",
    "    gd = rad.ObjCnt([g])\n",
    "    # and set color for iron\n",
    "    rad.ObjDrwAtr(g, ironcolor)\n",
    "\n",
    "    # create coil1\n",
    "    ht_coil = height - tip_coil_sep\n",
    "    wd_to_diagonal = (gap / 2 + tip_coil_sep) * tan_np\n",
    "    r_max = wd_to_diagonal - clearance - width / 2 + r_min\n",
    "    coil1 = rad.ObjRaceTrk([0, 0, z0 + height - ht_coil / 2], [r_min, r_max],\n",
    "                           [thick, width - 2 * r_min],\n",
    "                           ht_coil, 3, curr_density)\n",
    "\n",
    "    # create coil2\n",
    "    ht_coil = (height - tip_coil_sep) / 2\n",
    "    wd_to_diagonal = (gap / 2 + height - ht_coil) * tan_np\n",
    "    # r2 = wd_to_diagonal - clearance - width / 2 + r_min\n",
    "    r2 = r_max + 0.8 * ht_coil\n",
    "    coil2 = rad.ObjRaceTrk([0, 0, z0 + height - ht_coil / 2], [r_max, r2],\n",
    "                           [thick, width - 2 * r_min],\n",
    "                           ht_coil, 3, curr_density)\n",
    "\n",
    "    # set color for coils\n",
    "    rad.ObjDrwAtr(coil1, coilcolor)\n",
    "    rad.ObjDrwAtr(coil2, coilcolor)\n",
    "\n",
    "    # apply symmetries to create full pole tip plus attached yoke\n",
    "    ctr = [0, 0, 0]\n",
    "    x_hat = [1, 0, 0]\n",
    "    # reflection in y-z plane, with zero field perpendicular to the plane\n",
    "    rad.TrfZerPerp(gd, ctr, x_hat)\n",
    "    # reflection in z-x plane, with zero field perpendicular to the plane\n",
    "    rad.TrfZerPerp(gd, ctr, y_hat)\n",
    "\n",
    "    # create container for full pole tip with attached yoke and coils\n",
    "    t = rad.ObjCnt([gd, coil1, coil2])\n",
    "\n",
    "    # reflection across diagonal plane, with zero field parallel to the plane\n",
    "    rad.TrfZerPara(t, ctr, [0, cos(pi / n_poles), sin(pi / n_poles)])\n",
    "    # ==>> at this point we have a matched pair of pole tips\n",
    "    #      they subtend an angle 2 * (2π / n_poles) = 4π / n_poles\n",
    "\n",
    "    # apply symmetries to create full multipole electromagnet\n",
    "    rad.TrfMlt(t, rad.TrfRot(ctr, x_hat, 4 * pi / n_poles), int(n_poles / 2))\n",
    "    rad.MatApl(g, ironmat)\n",
    "    rad.TrfOrnt(t, rad.TrfRot(ctr, x_hat, pi / n_poles))\n",
    "\n",
    "    return t"
   ]
  },
  {
   "cell_type": "code",
   "execution_count": null,
   "metadata": {},
   "outputs": [],
   "source": [
    "# general parameters for the quadrupole\n",
    "n_poles =  4   # number of pole tips\n",
    "thick   = 60.  # length of magnet / mm\n",
    "width   = 30.  # pole width / mm\n",
    "gap     = 40.  # magnetic gap / mm\n",
    "height  = 50.  # height of pole tip / mm\n",
    "chamfer =  8.  # size of chamfer\n",
    "tip_coil_sep = 10.\n",
    "curr_density = -3.  # current density / (A / mm^2)\n",
    "\n",
    "# segmentation parameters\n",
    "nx = 2\n",
    "ny = 2\n",
    "n1 = [nx,ny,3]\n",
    "n2 = [nx,ny,3]\n",
    "np3 = 2\n",
    "nr3 = ny\n",
    "n4 = [nx,3,ny]\n",
    "np5 = ceil(np3/2)\n",
    "nr5 = ny\n",
    "\n",
    "# colors\n",
    "ironcolor = [0.0, 1.0, 1.0]\n",
    "coilcolor = [1.0, 0.0, 0.0]"
   ]
  },
  {
   "cell_type": "code",
   "execution_count": null,
   "metadata": {},
   "outputs": [],
   "source": [
    "rad.UtiDelAll()\n",
    "ironmat = rad.MatSatIsoFrm([2000,2],[0.1,2],[0.1,2])\n",
    "t0 = tm.time()\n",
    "quad = create_multipole(n_poles, thick, width, gap, height, chamfer, tip_coil_sep, curr_density)\n",
    "t1 = tm.time()\n",
    "size = rad.ObjDegFre(quad)\n",
    "\n",
    "print('Built in time', round((t1 - t0) * 1e3, 3),'ms')\n",
    "print('Interaction matrix:', size, 'x', size, '.equiv.', (4 * size * size / 1e6), 'MBytes')\n",
    "\n",
    "# set up the radia viewer and display the magnet\n",
    "rv = radia_viewer.RadiaViewer()\n",
    "rv.add_geometry('Quadrupole Magnet', quad)\n",
    "rv.display()"
   ]
  },
  {
   "cell_type": "code",
   "execution_count": null,
   "metadata": {},
   "outputs": [],
   "source": [
    "# solve for the magnetization\n",
    "prec     = 10.e-6 # precision for this computation\n",
    "max_iter = 10000  # maximum allowed iterations\n",
    "t0  = tm.time()\n",
    "res = rad.Solve(quad, prec, max_iter)\n",
    "t1  = tm.time()\n",
    "\n",
    "print(\"Solved for magnetization in time {0:6f} s\".format(t1 - t0))\n",
    "print(\"Relaxation results\")\n",
    "print(\"  number of iterations: {0:5d}\".format(int(res[3])))\n",
    "if(res[3] == max_iter):\n",
    "    print(\"    >> unstable or incomplete relaxation\")\n",
    "print(\"  average stability of magnetization at last iteration: {0:.4e} T\".format(res[0]))\n",
    "print(\"  maximum absolute magnetization at last iteration: {0:.5f} T\".format(res[1]))\n",
    "print(\"  maximum H vector at last iteration: {0:.5f} T\".format(res[2]))\n",
    "# print(\"Pole-tip magnetic field: {0:.8f} T\".format(rad.Fld(quad, 'bz', [x,y,z])))b"
   ]
  },
  {
   "cell_type": "markdown",
   "metadata": {},
   "source": [
    "The quadrupole gradient ... $B_z$ field at the origin, $(0, 0, 0)$, is the vertical\n",
    "field in the middle of the gap."
   ]
  },
  {
   "cell_type": "code",
   "execution_count": null,
   "metadata": {},
   "outputs": [],
   "source": [
    "Bz  = rad.Fld(quad, 'Bz', [0, 1, 0]) * 1e3\n",
    "Bz1 = rad.Fld(quad, 'Bz', [0,10, 0]) * 1e3 / 10\n",
    "Iz  = rad.FldInt(quad, 'inf', 'ibz', [-1, 1, 0], [1, 1, 0])\n",
    "Iz1 = rad.FldInt(quad, 'inf', 'ibz', [-1,10, 0], [1,10, 0]) / 10\n",
    "\n",
    "print(' quadrupole gradient:', round(Bz, 4), 'T/m')\n",
    "print('  int.quad. at  1 mm:', round(Iz, 5), 'T')\n",
    "print('δ int.quad. at 10 mm:', round((Iz1 / Iz - 1), 6) * 100, '%') # rel. var. in field integral"
   ]
  },
  {
   "cell_type": "markdown",
   "metadata": {},
   "source": [
    "## _Plots of the magnetic field and field integrals_\n",
    "\n",
    "Here we show plots of magnetic field in the gap and corresponding\n",
    "field integrals. The field values are obtained by calling `Fld` on\n",
    "a list of points. One may also use `FldLst`.\n",
    "\n",
    "The first graph here displays ..."
   ]
  },
  {
   "cell_type": "code",
   "execution_count": null,
   "metadata": {},
   "outputs": [],
   "source": [
    "# plots of magnetic field\n",
    "z    = 0\n",
    "x1   = 0\n",
    "x2   = 30\n",
    "ymax = 40\n",
    "np   = 20\n",
    "\n",
    "BzVy1 = rad.FldLst(quad, 'bz', [x1, 0, z], [x1, ymax, z], np, 'arg', 0)\n",
    "BzVy2 = rad.FldLst(quad, 'bz', [x2, 0, z], [x2, ymax, z], np, 'arg', 0)\n",
    "\n",
    "uti_plot1d_m([BzVy1, BzVy2],\n",
    "             labels = ['Y', 'Vertical Magnetic Field', 'Vertical Magnetic Field vs. Horizontal Position'], units = ['mm', 'T'],\n",
    "             styles = ['-b.', '-r.'], legend = ['X = {} mm'.format(x1), 'X = {} mm'.format(x2)])\n",
    "\n",
    "xmax = 1.5 * thick\n",
    "y1 = width / 4\n",
    "y2 = width / 2\n",
    "\n",
    "BzVx1 = rad.FldLst(quad, 'bz', [-xmax, y1, 0], [xmax, y1, 0], 2 * np, 'arg', 0)\n",
    "BzVx2 = rad.FldLst(quad, 'bz', [-xmax, y2, 0], [xmax, y2, 0], 2 * np, 'arg', 0)\n",
    "\n",
    "uti_plot1d_m([BzVx1, BzVx2],\n",
    "             labels = ['X', 'Vertical Magnetic Field', 'Vertical Magnetic Field vs. Longitudinal Position'], units = ['mm', 'T'],\n",
    "             styles = ['-b.', '-r.'], legend = ['Y = {} mm'.format(y1), 'Y = {} mm'.format(y2)])\n",
    "\n",
    "# plots of magnetic field integrals\n",
    "z    = 0\n",
    "ymin = 0.001\n",
    "ymax = 10\n",
    "npy  = 20\n",
    "yStep = (ymax - ymin) / (npy - 1)\n",
    "IBz0 = rad.FldInt(quad, 'inf', 'ibz', [-1, 1, z], [1, 1, z])\n",
    "\n",
    "IBzVsY = [(rad.FldInt(quad, 'inf', 'ibz', [-1, ymin + iy * yStep, z], [1,ymin+iy*yStep,z]) /\n",
    "           ((ymin+iy*yStep)*IBz0) - 1) * 100 for iy in range(npy)]\n",
    "uti_plot1d(IBzVsY, [ymin, ymax, npy],\n",
    "           ['Y', 'dIz', 'Rel. Variation of Vertical Field Integral along X at Z = ' + repr(z) + ' mm'], ['mm', '%'])\n",
    "\n",
    "# harmonic analysis of the field integrals\n",
    "nharm = 10; radius = 2; y = 0; z = 0;\n",
    "w = harm(quad, y, z, radius, nharm);\n",
    "\n",
    "mm = [multipole(w, i) for i in range(nharm)];\n",
    "round_mm = [complex(round(mm[i].real, 9), round(mm[i].imag, 9)) for i in range(nharm)];\n",
    "print(round_mm)\n",
    "\n",
    "uti_plot_show()"
   ]
  },
  {
   "cell_type": "markdown",
   "metadata": {},
   "source": [
    "### Compare results"
   ]
  },
  {
   "cell_type": "code",
   "execution_count": null,
   "metadata": {},
   "outputs": [],
   "source": [
    "BzVy1_sv = numpy.loadtxt(nb_dir + \"BzVy1.txt\")\n",
    "BzVy2_sv = numpy.loadtxt(nb_dir + \"BzVy2.txt\")\n",
    "BzVx1_sv = numpy.loadtxt(nb_dir + \"BzVx1.txt\")\n",
    "BzVx2_sv = numpy.loadtxt(nb_dir + \"BzVx2.txt\")"
   ]
  },
  {
   "cell_type": "code",
   "execution_count": null,
   "metadata": {},
   "outputs": [],
   "source": [
    "uti_plot1d_m([BzVy1, BzVy2, BzVy1_sv, BzVy2_sv],\n",
    "             labels = ['Y', 'Vertical Magnetic Field', 'Vertical Magnetic Field vs. Horizontal Position'], units = ['mm', 'T'],\n",
    "             styles = ['-b.', '-r.', '--g.', '--g.'], legend = ['X = {} mm'.format(x1), 'X = {} mm'.format(x2)])\n",
    "\n",
    "uti_plot1d_m([BzVx1, BzVx2, BzVx1_sv, BzVx2_sv],\n",
    "             labels = ['X', 'Vertical Magnetic Field', 'Vertical Magnetic Field vs. Longitudinal Position'], units = ['mm', 'T'],\n",
    "             styles = ['-b.', '-r.', '--g.', '--g.'], legend = ['Y = {} mm'.format(y1), 'Y = {} mm'.format(y2)])\n",
    "\n",
    "uti_plot_show()"
   ]
  },
  {
   "cell_type": "code",
   "execution_count": null,
   "metadata": {},
   "outputs": [],
   "source": []
  }
 ],
 "metadata": {
  "kernelspec": {
   "display_name": "Python 3",
   "language": "python",
   "name": "py3"
  },
  "language_info": {
   "codemirror_mode": {
    "name": "ipython",
    "version": 3
   },
   "file_extension": ".py",
   "mimetype": "text/x-python",
   "name": "python",
   "nbconvert_exporter": "python",
   "pygments_lexer": "ipython3",
   "version": "3.9.15"
  }
 },
 "nbformat": 4,
 "nbformat_minor": 4
}
